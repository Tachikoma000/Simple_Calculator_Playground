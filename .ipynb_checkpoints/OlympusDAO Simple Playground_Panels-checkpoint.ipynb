{
 "cells": [
  {
   "cell_type": "code",
   "execution_count": 1,
   "id": "1edad166",
   "metadata": {},
   "outputs": [],
   "source": [
    "# Import all necessary libraries\n",
    "import math # Needed for basic math operations\\n\",\n",
    "import pandas as pd # Needed fpr dataframe creation and operations\\n\",\n",
    "import numpy as np # Needed for array manipulations\\n\",\n",
    "from itertools import islice # Needed for more complex row and coloumn slicing\\n\",\n",
    "import matplotlib.pyplot as plt # Needed for quickly ploting results\""
   ]
  },
  {
   "cell_type": "code",
   "execution_count": 2,
   "id": "e27ef4d6",
   "metadata": {},
   "outputs": [],
   "source": [
    "from pycoingecko import CoinGeckoAPI # Pulls live data from coingecko\n",
    "cg = CoinGeckoAPI() # Pulls live price feed from coingecko"
   ]
  },
  {
   "cell_type": "code",
   "execution_count": 3,
   "id": "e985b8a7",
   "metadata": {},
   "outputs": [],
   "source": [
    "# Variable declarations\n",
    "ohmPrice = cg.get_price(ids='olympus',vs_currencies='usd') # Get most recent price from coingecko via api\",\n",
    "rewardYield = round(0.47/100,5) # current staking %rebase rate. Need to make this read from a source or user entry\",\n",
    "rebaseEpochs = 3 # Not really necessary to declare this here, but for reability it works for now\",\n",
    "rebaseConst = 1 + rewardYield\n",
    "currentAPY = 17407/100 # current staking %APY. Need to make this read from a source or user entry\",\n",
    "ohmStaked = 20 # Assume 20 for this demo\""
   ]
  },
  {
   "cell_type": "code",
   "execution_count": 4,
   "id": "132896cb",
   "metadata": {},
   "outputs": [
    {
     "name": "stdout",
     "output_type": "stream",
     "text": [
      "0.01416637382299979\n",
      "1.416637382299979\n"
     ]
    }
   ],
   "source": [
    "# Let's get some ROI Outputs starting with the daily\n",
    "dailyROI = (1+rewardYield)**3-1 # Equation to calculate your daily ROI based on reward Yield\n",
    "dailyROI_P = dailyROI*100 # daily ROI in Percentage\n",
    "print(dailyROI) # View results\n",
    "print(dailyROI_P)"
   ]
  },
  {
   "cell_type": "code",
   "execution_count": 5,
   "id": "b1132a35",
   "metadata": {},
   "outputs": [
    {
     "name": "stdout",
     "output_type": "stream",
     "text": [
      "0.07286736248296344\n",
      "7.286736248296344\n"
     ]
    }
   ],
   "source": [
    "# 5 day ROI\n",
    "fivedayROI = (1+rewardYield)**(5*3)-1 # Equation to calculate your 5 day ROI based on reward Yield\n",
    "fivedayROI_P = fivedayROI*100 # 5 day ROI in Percentage\n",
    "print(fivedayROI)\n",
    "print(fivedayROI_P)"
   ]
  },
  {
   "cell_type": "code",
   "execution_count": 6,
   "id": "65e4170f",
   "metadata": {},
   "outputs": [
    {
     "name": "stdout",
     "output_type": "stream",
     "text": [
      "0.5250223317945069\n",
      "52.502233179450684\n"
     ]
    }
   ],
   "source": [
    "# 30 day ROI\n",
    "monthlyROI = (1+rewardYield)**(30*3)-1 # Equation to calculate your 30 day ROI based on reward Yield\n",
    "monthlyROI_P = monthlyROI*100 # 30 day ROI in Percentage\n",
    "print(monthlyROI)\n",
    "print(monthlyROI_P)"
   ]
  },
  {
   "cell_type": "code",
   "execution_count": 7,
   "id": "4fa48eb9",
   "metadata": {},
   "outputs": [
    {
     "name": "stdout",
     "output_type": "stream",
     "text": [
      "168.7698145249191\n",
      "16876.98145249191\n"
     ]
    }
   ],
   "source": [
    "# Annual ROI\n",
    "annualROI = (1+rewardYield)**(365*3)-1 # Equation to calculate your annual ROI based on reward Yield\n",
    "annualROI_P = annualROI*100 # Equation to calculate your annual ROI based on reward Yield\n",
    "print(annualROI)\n",
    "print(annualROI_P)"
   ]
  },
  {
   "cell_type": "code",
   "execution_count": 8,
   "id": "b4ce5250",
   "metadata": {},
   "outputs": [],
   "source": [
    "# ohm growth over time\n",
    "# STEP 1 : create a data frame to hold all required data point. Data required would be Epochs since rebase are distributed every Epoch\n",
    "ohmGrowth_df = pd.DataFrame(np.arange(3001), columns = ['Epochs']) # In this case let's consider 3000 Epochs which is 1000 days"
   ]
  },
  {
   "cell_type": "code",
   "execution_count": 9,
   "id": "e62faff1",
   "metadata": {},
   "outputs": [
    {
     "data": {
      "text/html": [
       "<div>\n",
       "<style scoped>\n",
       "    .dataframe tbody tr th:only-of-type {\n",
       "        vertical-align: middle;\n",
       "    }\n",
       "\n",
       "    .dataframe tbody tr th {\n",
       "        vertical-align: top;\n",
       "    }\n",
       "\n",
       "    .dataframe thead th {\n",
       "        text-align: right;\n",
       "    }\n",
       "</style>\n",
       "<table border=\"1\" class=\"dataframe\">\n",
       "  <thead>\n",
       "    <tr style=\"text-align: right;\">\n",
       "      <th></th>\n",
       "      <th>Epochs</th>\n",
       "    </tr>\n",
       "  </thead>\n",
       "  <tbody>\n",
       "    <tr>\n",
       "      <th>0</th>\n",
       "      <td>0</td>\n",
       "    </tr>\n",
       "    <tr>\n",
       "      <th>1</th>\n",
       "      <td>1</td>\n",
       "    </tr>\n",
       "    <tr>\n",
       "      <th>2</th>\n",
       "      <td>2</td>\n",
       "    </tr>\n",
       "    <tr>\n",
       "      <th>3</th>\n",
       "      <td>3</td>\n",
       "    </tr>\n",
       "    <tr>\n",
       "      <th>4</th>\n",
       "      <td>4</td>\n",
       "    </tr>\n",
       "  </tbody>\n",
       "</table>\n",
       "</div>"
      ],
      "text/plain": [
       "   Epochs\n",
       "0       0\n",
       "1       1\n",
       "2       2\n",
       "3       3\n",
       "4       4"
      ]
     },
     "execution_count": 9,
     "metadata": {},
     "output_type": "execute_result"
    }
   ],
   "source": [
    "ohmGrowth_df.head() # Let's peak into the first few rows and verify what we created"
   ]
  },
  {
   "cell_type": "code",
   "execution_count": 10,
   "id": "84a5586e",
   "metadata": {},
   "outputs": [],
   "source": [
    "ohmGrowth_df['Days'] = ohmGrowth_df.Epochs/3 # There are 3 Epochs per day so divide by 3 to get Days"
   ]
  },
  {
   "cell_type": "code",
   "execution_count": 11,
   "id": "006874fd",
   "metadata": {},
   "outputs": [
    {
     "data": {
      "text/html": [
       "<div>\n",
       "<style scoped>\n",
       "    .dataframe tbody tr th:only-of-type {\n",
       "        vertical-align: middle;\n",
       "    }\n",
       "\n",
       "    .dataframe tbody tr th {\n",
       "        vertical-align: top;\n",
       "    }\n",
       "\n",
       "    .dataframe thead th {\n",
       "        text-align: right;\n",
       "    }\n",
       "</style>\n",
       "<table border=\"1\" class=\"dataframe\">\n",
       "  <thead>\n",
       "    <tr style=\"text-align: right;\">\n",
       "      <th></th>\n",
       "      <th>Epochs</th>\n",
       "      <th>Days</th>\n",
       "    </tr>\n",
       "  </thead>\n",
       "  <tbody>\n",
       "    <tr>\n",
       "      <th>0</th>\n",
       "      <td>0</td>\n",
       "      <td>0.000000</td>\n",
       "    </tr>\n",
       "    <tr>\n",
       "      <th>1</th>\n",
       "      <td>1</td>\n",
       "      <td>0.333333</td>\n",
       "    </tr>\n",
       "    <tr>\n",
       "      <th>2</th>\n",
       "      <td>2</td>\n",
       "      <td>0.666667</td>\n",
       "    </tr>\n",
       "    <tr>\n",
       "      <th>3</th>\n",
       "      <td>3</td>\n",
       "      <td>1.000000</td>\n",
       "    </tr>\n",
       "    <tr>\n",
       "      <th>4</th>\n",
       "      <td>4</td>\n",
       "      <td>1.333333</td>\n",
       "    </tr>\n",
       "    <tr>\n",
       "      <th>...</th>\n",
       "      <td>...</td>\n",
       "      <td>...</td>\n",
       "    </tr>\n",
       "    <tr>\n",
       "      <th>2996</th>\n",
       "      <td>2996</td>\n",
       "      <td>998.666667</td>\n",
       "    </tr>\n",
       "    <tr>\n",
       "      <th>2997</th>\n",
       "      <td>2997</td>\n",
       "      <td>999.000000</td>\n",
       "    </tr>\n",
       "    <tr>\n",
       "      <th>2998</th>\n",
       "      <td>2998</td>\n",
       "      <td>999.333333</td>\n",
       "    </tr>\n",
       "    <tr>\n",
       "      <th>2999</th>\n",
       "      <td>2999</td>\n",
       "      <td>999.666667</td>\n",
       "    </tr>\n",
       "    <tr>\n",
       "      <th>3000</th>\n",
       "      <td>3000</td>\n",
       "      <td>1000.000000</td>\n",
       "    </tr>\n",
       "  </tbody>\n",
       "</table>\n",
       "<p>3001 rows × 2 columns</p>\n",
       "</div>"
      ],
      "text/plain": [
       "      Epochs         Days\n",
       "0          0     0.000000\n",
       "1          1     0.333333\n",
       "2          2     0.666667\n",
       "3          3     1.000000\n",
       "4          4     1.333333\n",
       "...      ...          ...\n",
       "2996    2996   998.666667\n",
       "2997    2997   999.000000\n",
       "2998    2998   999.333333\n",
       "2999    2999   999.666667\n",
       "3000    3000  1000.000000\n",
       "\n",
       "[3001 rows x 2 columns]"
      ]
     },
     "execution_count": 11,
     "metadata": {},
     "output_type": "execute_result"
    }
   ],
   "source": [
    "ohmGrowth_df # Let's see our data frame"
   ]
  },
  {
   "cell_type": "code",
   "execution_count": 12,
   "id": "fdc3d1f7",
   "metadata": {},
   "outputs": [],
   "source": [
    "# To Calculate the ohm growth over 3000 Epochs or 1000 days, we loop through the exponential ohm growth equation every epoch\\n\",\n",
    "totalOhms = [] # create an empty array that will hold the componded rewards\\n\",\n",
    "for elements in ohmGrowth_df.Epochs: # Initialize the for loop to have loops equal to number of rows or number of epochs\\n\",\n",
    "    totalOhms.append(ohmStaked) # populate the empty array with calclated values each iteration\\n\",\n",
    "    ohmStaked = ohmStaked*(1+rewardYield) # compound the total amount of ohms \\n\",\n",
    "ohmGrowth_df['Total_Ohms'] = totalOhms # Clean up and add the new array to the main data frame\\n\",\n",
    "# This can be done eaily with list comprhension, but for the sake of learning and detail, this approach is fine\""
   ]
  },
  {
   "cell_type": "code",
   "execution_count": 13,
   "id": "3e36aeb6",
   "metadata": {},
   "outputs": [],
   "source": [
    "ohmGrowth_df.Days = np.around(ohmGrowth_df.Days,decimals=1) # Python is funny so let's round up our numbers . 1 decimal place for days\",\n",
    "ohmGrowth_df.Total_Ohms = np.around(ohmGrowth_df.Total_Ohms,decimals=3)  # Python is funny so let's round up our numbers . 3 decimal place for ohms\""
   ]
  },
  {
   "cell_type": "code",
   "execution_count": 14,
   "id": "6db06e72",
   "metadata": {},
   "outputs": [
    {
     "data": {
      "text/plain": [
       "0       2.000000e+01\n",
       "1       2.009400e+01\n",
       "2       2.018800e+01\n",
       "3       2.028300e+01\n",
       "4       2.037900e+01\n",
       "            ...     \n",
       "2996    2.524011e+07\n",
       "2997    2.535873e+07\n",
       "2998    2.547792e+07\n",
       "2999    2.559767e+07\n",
       "3000    2.571798e+07\n",
       "Name: Total_Ohms, Length: 3001, dtype: float64"
      ]
     },
     "execution_count": 14,
     "metadata": {},
     "output_type": "execute_result"
    }
   ],
   "source": [
    "ohmGrowth_df.Total_Ohms"
   ]
  },
  {
   "cell_type": "code",
   "execution_count": 15,
   "id": "33f99cf6",
   "metadata": {},
   "outputs": [
    {
     "data": {
      "text/html": [
       "<div>\n",
       "<style scoped>\n",
       "    .dataframe tbody tr th:only-of-type {\n",
       "        vertical-align: middle;\n",
       "    }\n",
       "\n",
       "    .dataframe tbody tr th {\n",
       "        vertical-align: top;\n",
       "    }\n",
       "\n",
       "    .dataframe thead th {\n",
       "        text-align: right;\n",
       "    }\n",
       "</style>\n",
       "<table border=\"1\" class=\"dataframe\">\n",
       "  <thead>\n",
       "    <tr style=\"text-align: right;\">\n",
       "      <th></th>\n",
       "      <th>Epochs</th>\n",
       "      <th>Days</th>\n",
       "      <th>Total_Ohms</th>\n",
       "    </tr>\n",
       "  </thead>\n",
       "  <tbody>\n",
       "    <tr>\n",
       "      <th>60</th>\n",
       "      <td>60</td>\n",
       "      <td>20.0</td>\n",
       "      <td>26.498</td>\n",
       "    </tr>\n",
       "  </tbody>\n",
       "</table>\n",
       "</div>"
      ],
      "text/plain": [
       "    Epochs  Days  Total_Ohms\n",
       "60      60  20.0      26.498"
      ]
     },
     "execution_count": 15,
     "metadata": {},
     "output_type": "execute_result"
    }
   ],
   "source": [
    "ohmGrowth_df.loc[ohmGrowth_df['Days'] == 20] # Let's peak into what we have created. What is the number of ohms earned at day 20?"
   ]
  },
  {
   "cell_type": "code",
   "execution_count": 16,
   "id": "960f3951",
   "metadata": {},
   "outputs": [
    {
     "data": {
      "text/plain": [
       "<AxesSubplot:xlabel='Days'>"
      ]
     },
     "execution_count": 16,
     "metadata": {},
     "output_type": "execute_result"
    },
    {
     "data": {
      "image/png": "[encoded data removed]",
      "text/plain": [
       "<Figure size 432x288 with 1 Axes>"
      ]
     },
     "metadata": {
      "needs_background": "light"
     },
     "output_type": "display_data"
    }
   ],
   "source": [
    "ohmGrowth_df.plot(x=\"Days\", y=\"Total_Ohms\") # Plot of the exponential curve. Compounded rewards!!"
   ]
  },
  {
   "cell_type": "code",
   "execution_count": null,
   "id": "69a1b59e",
   "metadata": {},
   "outputs": [],
   "source": []
  }
 ],
 "metadata": {
  "kernelspec": {
   "display_name": "Python 3",
   "language": "python",
   "name": "python3"
  },
  "language_info": {
   "codemirror_mode": {
    "name": "ipython",
    "version": 3
   },
   "file_extension": ".py",
   "mimetype": "text/x-python",
   "name": "python",
   "nbconvert_exporter": "python",
   "pygments_lexer": "ipython3",
   "version": "3.8.10"
  }
 },
 "nbformat": 4,
 "nbformat_minor": 5
}
