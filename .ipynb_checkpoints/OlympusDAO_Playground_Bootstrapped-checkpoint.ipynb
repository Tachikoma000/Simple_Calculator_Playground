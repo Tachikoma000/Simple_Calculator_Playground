{
 "cells": [
  {
   "cell_type": "markdown",
   "id": "7b5dc8ee",
   "metadata": {
    "heading_collapsed": true
   },
   "source": [
    "# Welcome to OlympusDAO Playground"
   ]
  },
  {
   "cell_type": "markdown",
   "id": "8a8a25f3",
   "metadata": {
    "heading_collapsed": true,
    "hidden": true
   },
   "source": [
    "## Introduction: What is Olympus Playground?\n",
    "\n",
    "This is a simple projection calculator for Staking and bonding ohm in OlympusDAO protocol\n",
    "Welcome to Olympus Playground\n",
    "This is an interactive notebook to study, play and forcast the growth of your ohm over time. This notebook is designed to work hand in hand with the awesome gitbook created by the DAO and all of Brians calcs!\n",
    "\n",
    "### Staking Projections:\n",
    "\n",
    "- ROIs at current reward yield\n",
    "- ROI after 1 day at current reward yield\n",
    "- ROI after 5 days at current reward yield\n",
    "- OHM and USD ROI and holding value in 5 days\n",
    "- ROI after 7 days at current reward yield\n",
    "- OMH and USD ROI and holding value in 7 days\n",
    "- ROI after 1 month at current reward yield\n",
    "- OHM and USD ROI and holding value in 1 Month\n",
    "- ROI after 1 year at current reward yield\n",
    "- OHM and USD ROI and holding value in 1 Year\n",
    "- Days until desired target USD\n",
    "- Days until desired target OHM\n",
    "- OHM and USD ROI and holding on specific date. This data will be provided on an interactive chart where you can hover your mouse over any desired date and view the projection.\n",
    "\n",
    "### Incooom Projections:\n",
    "\n",
    "- Required OHM to reach desired daily incooom\n",
    "- Days until you reach required OHMs for daily incoom (Assuming growth by staking alone)\n",
    "- Estimated date\n",
    "Desire weekly incooom\n",
    "- Required OHM to reach goal desire weekly incooom\n",
    "- weeks until you reach required OHMs for weeks incoom (Assuming growth by staking alone)\n",
    "- Estimated date\n"
   ]
  },
  {
   "cell_type": "markdown",
   "id": "9440a2f3",
   "metadata": {},
   "source": [
    "# The Libraries"
   ]
  },
  {
   "cell_type": "code",
   "execution_count": 132,
   "id": "c78d57c7",
   "metadata": {
    "code_folding": [
     0
    ]
   },
   "outputs": [],
   "source": [
    "# Import all necessary libraries\n",
    "from jupyter_dash import JupyterDash  # server packages"
   ]
  },
  {
   "cell_type": "code",
   "execution_count": 133,
   "id": "84aa733c",
   "metadata": {
    "code_folding": [
     0
    ]
   },
   "outputs": [],
   "source": [
    "# Import all necessary libraries : User interface components\n",
    "import dash_core_components as dcc # Dash components we use dash for ui design\n",
    "import dash_html_components as html # Dash html components\n",
    "import dash_bootstrap_components as dbc # bootstrap!!\n",
    "from dash.dependencies import Input, Output, State, ClientsideFunction # Dash i/o components\n",
    "import dash_table as dt # Dash table components\n",
    "import dash_table.FormatTemplate as FormatTemplate # dash table formatter"
   ]
  },
  {
   "cell_type": "code",
   "execution_count": 134,
   "id": "ee170861",
   "metadata": {
    "code_folding": [
     0
    ]
   },
   "outputs": [],
   "source": [
    "# Import all necessary libraries Maths, arrays, data tables, plots\n",
    "import math  # Needed for basic math operations\\n\",\n",
    "import pandas as pd  # Needed fpr dataframe creation and operations\\n\",\n",
    "import numpy as np  # Needed for array manipulations\\n\",\n",
    "from itertools import islice  # Needed for more complex row and coloumn slicing\\n\",\n",
    "import matplotlib.pyplot as plt  # Needed for quickly ploting results\"\n",
    "import pathlib  # url management\n",
    "import plotly.express as px  # cleaner graphs\n",
    "import plotly.graph_objects as go  # cleaner graphs"
   ]
  },
  {
   "cell_type": "code",
   "execution_count": 135,
   "id": "f3b08087",
   "metadata": {
    "code_folding": []
   },
   "outputs": [],
   "source": [
    "# Coingecko API\n",
    "from pycoingecko import CoinGeckoAPI  # Pulls live data from coingecko"
   ]
  },
  {
   "cell_type": "code",
   "execution_count": 136,
   "id": "7677714d",
   "metadata": {
    "code_folding": []
   },
   "outputs": [],
   "source": [
    "# Pull data from Hippos data feed\n",
    "sheet_id = \"13alTGGKZyotRR3R1VFNlkL0uZ6GoKjmK8TjVZ1ZQyvQ\" # the google spreadsheet id\n",
    "sheet_name = \"Protocol%20Metrics\" # the specific sheet of interest\n",
    "dataSheet_url = \"https://docs.google.com/spreadsheets/d/{}/gviz/tq?tqx=out:csv&sheet={}\".format(sheet_id, sheet_name) #construct url\n",
    "dataStream = pd.read_csv(dataSheet_url)"
   ]
  },
  {
   "cell_type": "markdown",
   "id": "9f327f40",
   "metadata": {},
   "source": [
    "# The server "
   ]
  },
  {
   "cell_type": "code",
   "execution_count": 138,
   "id": "5e39c971",
   "metadata": {},
   "outputs": [],
   "source": [
    "JupyterDash.infer_jupyter_proxy_config() # Allows us to run server"
   ]
  },
  {
   "cell_type": "markdown",
   "id": "ac0e8bb4",
   "metadata": {},
   "source": [
    "# The App Interface: Headers, Tabs, Cards, Parameters and Footer"
   ]
  },
  {
   "cell_type": "markdown",
   "id": "c55305ea",
   "metadata": {},
   "source": [
    "## Css style sheet"
   ]
  },
  {
   "cell_type": "code",
   "execution_count": 139,
   "id": "6fa2a6fa",
   "metadata": {},
   "outputs": [],
   "source": [
    "FONT_AWESOME = \"https://use.fontawesome.com/releases/v5.10.2/css/all.css\" # Nice font for out UI design\n",
    "external_stylesheets = [dbc.themes.SPACELAB, FONT_AWESOME]"
   ]
  },
  {
   "cell_type": "markdown",
   "id": "7bd96869",
   "metadata": {
    "heading_collapsed": true
   },
   "source": [
    "## Header"
   ]
  },
  {
   "cell_type": "code",
   "execution_count": 140,
   "id": "bc61b50a",
   "metadata": {
    "hidden": true
   },
   "outputs": [],
   "source": [
    "## Header code"
   ]
  },
  {
   "cell_type": "markdown",
   "id": "9a6c6f8e",
   "metadata": {
    "heading_collapsed": true
   },
   "source": [
    "## Footer"
   ]
  },
  {
   "cell_type": "code",
   "execution_count": 141,
   "id": "026ffb22",
   "metadata": {
    "code_folding": [
     1
    ],
    "hidden": true
   },
   "outputs": [],
   "source": [
    "footer = html.Div(\n",
    "    dcc.Markdown(\n",
    "        ''' Olympus Playground is intended solely as general information for educational\n",
    "        and entertainment purposes only and is not a substitute for professional advice and\n",
    "        services from qualified financial services providers familiar with your financial\n",
    "        situation. Questions? Suggestions? Please visit OlympusDAO discord server!\n",
    "    '''),\n",
    "    className=\"p-2 pl-5 pr-5 bg-light text-black\",\n",
    ")"
   ]
  },
  {
   "cell_type": "markdown",
   "id": "b7d6810a",
   "metadata": {
    "heading_collapsed": true
   },
   "source": [
    "## (3,3): Staking information, Simulation parameters and Output Cards"
   ]
  },
  {
   "cell_type": "markdown",
   "id": "637f5b06",
   "metadata": {
    "heading_collapsed": true,
    "hidden": true
   },
   "source": [
    "### (3,3) Learn Card Text"
   ]
  },
  {
   "cell_type": "code",
   "execution_count": 142,
   "id": "f6aaee21",
   "metadata": {
    "code_folding": [
     0
    ],
    "hidden": true
   },
   "outputs": [],
   "source": [
    "playgroundIntroduction_text = dcc.Markdown(''' \n",
    "    (3,3) Playground is a simulator for staking, and incooom strategies.\n",
    "    Use this simulator to:\n",
    "    - Forcast ROI ar current and future reward yield percent\n",
    "    - OHM growth over time\n",
    "    - OHM and USD value over time\n",
    "                        \n",
    "    We love the incooom, use this simulator to strategize:\n",
    "    - Required staked OHM to reach desired daily incooom\n",
    "    - Count down until you are earning desired daily incooom\n",
    "    - Required staked OHM to reach desired weekly incooom\n",
    "    - Count down until you are earning desired weekly incooom\n",
    "    \n",
    "    Learn more here: https://docs.olympusdao.finance/protocol-internals/market-dynamics\n",
    "    ''')"
   ]
  },
  {
   "cell_type": "code",
   "execution_count": 143,
   "id": "e634f969",
   "metadata": {
    "code_folding": [
     0
    ],
    "hidden": true
   },
   "outputs": [],
   "source": [
    "equationReference_text = dcc.Markdown('''\n",
    "    References to system governing equations can be found here\n",
    "    [OlympusDAO Gitbook:](https://docs.olympusdao.finance/) The gitbook is a the best source for due diligence and understanding\n",
    "    the mechanics of Olympus protocol\n",
    "    ''')"
   ]
  },
  {
   "cell_type": "markdown",
   "id": "d46ca816",
   "metadata": {
    "heading_collapsed": true,
    "hidden": true
   },
   "source": [
    "### (3,3) Play Card Text"
   ]
  },
  {
   "cell_type": "code",
   "execution_count": 144,
   "id": "a483b4bb",
   "metadata": {
    "code_folding": [
     0
    ],
    "hidden": true
   },
   "outputs": [],
   "source": [
    "simulationParameters_text = dcc.Markdown(\"\"\"\n",
    "    > **[Asset allocation (OHM staked)](https://docs.olympusdao.finance/basics/staking)**, **[APY](https://docs.olympusdao.finance/basics/basics#what-is-apy)**,\n",
    "    and **[Rebase Rate](https://docs.olympusdao.finance/basics/basics#what-is-a-rebase)** are main factors that determine returns and incooom over time.\n",
    "    Play with the simulator and see how your starting OHM affects your projected accured value over time.\n",
    "    Additionally, use the incooom parameters to forcast daily and weekly incooom from (3,3) alone. \n",
    "    \n",
    "    > Hover your mouse over the chart trend lines to see live feedback on Total ohms accumulated vs days.\n",
    "    Use the slider and number input boxes to adjust your goals and see the results displayed on the incoom charts and table. \n",
    "    \"\"\")"
   ]
  },
  {
   "cell_type": "markdown",
   "id": "56402159",
   "metadata": {
    "heading_collapsed": true,
    "hidden": true
   },
   "source": [
    "### (3,3) Simulation parameters: Input"
   ]
  },
  {
   "cell_type": "code",
   "execution_count": 145,
   "id": "0c17f90b",
   "metadata": {
    "code_folding": [
     3,
     20,
     38,
     57,
     75,
     93,
     111,
     138,
     155,
     173,
     191,
     209,
     227,
     245
    ],
    "hidden": true
   },
   "outputs": [],
   "source": [
    "incooomInput_card = html.Div(\n",
    "    dbc.Card(\n",
    "        [\n",
    "            dbc.InputGroup(\n",
    "                [\n",
    "                    dbc.InputGroupAddon(dbc.InputGroupText(\n",
    "                        'Current Price of OHM :', style={'width': 275}),\n",
    "                        addon_type=\"prepend\"),\n",
    "                    dbc.Input(id=\"ohmPrice\",\n",
    "                              placeholder=\"$1\",\n",
    "                              type=\"number\",\n",
    "                              persistence=True,\n",
    "                              persistence_type=\"session\",\n",
    "                              min=1,\n",
    "                              step=0.0001,\n",
    "                              value=ohmPrice,\n",
    "                              disabled=True),\n",
    "                ],\n",
    "                className=\"mb-3\",\n",
    "            ),\n",
    "            dbc.InputGroup(\n",
    "                [\n",
    "                    dbc.InputGroupAddon(dbc.InputGroupText(\n",
    "                        'Start Amount (OHM) :', style={'width': 275}),\n",
    "                        addon_type='prepend'),\n",
    "                    dbc.Input(\n",
    "                        id='initialOhms',\n",
    "                        placeholder='Min 0.01 OHM',\n",
    "                        type='number',\n",
    "                        persistence=True,\n",
    "                        persistence_type='session',\n",
    "                        min=0.0001,\n",
    "                        step=0.0001,\n",
    "                        value=1,\n",
    "                    ),\n",
    "                ],\n",
    "                className='mb-3',\n",
    "            ),\n",
    "            dbc.InputGroup(\n",
    "                [\n",
    "                    dbc.InputGroupAddon(dbc.InputGroupText(\n",
    "                        'Rebase Rate (%) :', style={'width': 275}),\n",
    "                        addon_type='prepend'),\n",
    "                    dbc.Input(\n",
    "                        id='rewardYield',\n",
    "                        placeholder='0.4583',\n",
    "                        type='number',\n",
    "                        persistence=True,\n",
    "                        persistence_type='session',\n",
    "                        min=0.0019,\n",
    "                        max=0.4583,\n",
    "                        step=0.0001,\n",
    "                        value=0.3058,\n",
    "                    ),\n",
    "                ],\n",
    "                className='mb-3',\n",
    "            ),\n",
    "            dbc.InputGroup(\n",
    "                [\n",
    "                    dbc.InputGroupAddon(dbc.InputGroupText(\n",
    "                        'Desired Target (USD) :', style={'width': 275}),\n",
    "                        addon_type='prepend'),\n",
    "                    dbc.Input(\n",
    "                        id='desiredUSDTarget',\n",
    "                        placeholder='10000',\n",
    "                        type='number',\n",
    "                        persistence=True,\n",
    "                        persistence_type='session',\n",
    "                        min=1,\n",
    "                        step=0.0001,\n",
    "                        value=10000,\n",
    "                    ),\n",
    "                ],\n",
    "                className='mb-3',\n",
    "            ),\n",
    "            dbc.InputGroup(\n",
    "                [\n",
    "                    dbc.InputGroupAddon(dbc.InputGroupText(\n",
    "                        'Desired Target (OHM) :', style={'width': 275}),\n",
    "                        addon_type='prepend'),\n",
    "                    dbc.Input(\n",
    "                        id='desiredOHMTarget',\n",
    "                        placeholder='1000',\n",
    "                        type='number',\n",
    "                        persistence=True,\n",
    "                        persistence_type='session',\n",
    "                        min=1,\n",
    "                        step=0.0001,\n",
    "                        value=100,\n",
    "                    ),\n",
    "                ],\n",
    "                className='mb-3',\n",
    "            ),\n",
    "            dbc.InputGroup(\n",
    "                [\n",
    "                    dbc.InputGroupAddon(dbc.InputGroupText(\n",
    "                        'Desired Daily Incooom (USD) :', style={'width': 275}),\n",
    "                        addon_type='prepend'),\n",
    "                    dbc.Input(\n",
    "                        id='desiredDailyIncooom',\n",
    "                        placeholder='1000',\n",
    "                        type='number',\n",
    "                        persistence=True,\n",
    "                        persistence_type='session',\n",
    "                        min=1,\n",
    "                        step=0.0001,\n",
    "                        value=1000,\n",
    "                    ),\n",
    "                ],\n",
    "                className='mb-3',\n",
    "            ),\n",
    "            dbc.InputGroup(\n",
    "                [\n",
    "                    dbc.InputGroupAddon(\n",
    "                        dbc.InputGroupText('Desired Weekly Incooom (USD) :',\n",
    "                                           style={'width': 275}),\n",
    "                        addon_type='prepend'),\n",
    "                    dbc.Input(\n",
    "                        id='desiredWeeklyIncooom',\n",
    "                        placeholder='1000',\n",
    "                        type='number',\n",
    "                        persistence=True,\n",
    "                        persistence_type='session',\n",
    "                        min=1,\n",
    "                        step=0.0001,\n",
    "                        value=100,\n",
    "                    ),\n",
    "                ],\n",
    "                className='mb-3',\n",
    "            ),\n",
    "        ],\n",
    "        body=True,\n",
    "        className='mt-4',\n",
    "    ))\n",
    "\n",
    "dataStream_card = html.Div(\n",
    "    dbc.Card(\n",
    "        [\n",
    "            dbc.InputGroup(\n",
    "                [\n",
    "                    dbc.InputGroupAddon(dbc.InputGroupText(\n",
    "                        'Current Price of OHM :', style={'width': 275}),\n",
    "                        addon_type=\"prepend\"),\n",
    "                    dbc.Input(id=\"ohmPrice\",\n",
    "                              placeholder=\"$1\",\n",
    "                              type=\"number\",\n",
    "                              persistence=True,\n",
    "                              persistence_type=\"session\",\n",
    "                              min=1,\n",
    "                              step=0.0001,\n",
    "                              value=ohmPrice,\n",
    "                              disabled=True),\n",
    "                ],\n",
    "                className=\"mb-3\",\n",
    "            ),\n",
    "            dbc.InputGroup(\n",
    "                [\n",
    "                    dbc.InputGroupAddon(dbc.InputGroupText(\n",
    "                        'Total Supply (OHM) :', style={'width': 275}),\n",
    "                        addon_type='prepend'),\n",
    "                    dbc.Input(\n",
    "                        id='totalOHMSupply',\n",
    "                        placeholder='10000',\n",
    "                        type='number',\n",
    "                        persistence=True,\n",
    "                        persistence_type='session',\n",
    "                        min=0.0001,\n",
    "                        step=0.0001,\n",
    "                        value=totalSupply,\n",
    "                    ),\n",
    "                ],\n",
    "                className='mb-3',\n",
    "            ),\n",
    "            dbc.InputGroup(\n",
    "                [\n",
    "                    dbc.InputGroupAddon(dbc.InputGroupText(\n",
    "                        'Circulating (OHM) :', style={'width': 275}),\n",
    "                        addon_type='prepend'),\n",
    "                    dbc.Input(\n",
    "                        id='circulatingOHMSupply',\n",
    "                        placeholder='10000',\n",
    "                        type='number',\n",
    "                        persistence=True,\n",
    "                        persistence_type='session',\n",
    "                        min=0.0001,\n",
    "                        step=0.0001,\n",
    "                        value=ohmCirculatingSupply,\n",
    "                    ),\n",
    "                ],\n",
    "                className='mb-3',\n",
    "            ),\n",
    "            dbc.InputGroup(\n",
    "                [\n",
    "                    dbc.InputGroupAddon(dbc.InputGroupText(\n",
    "                        'Staked Circulating (OHM) :', style={'width': 275}),\n",
    "                        addon_type='prepend'),\n",
    "                    dbc.Input(\n",
    "                        id='stakedcirculatingOHMSupply',\n",
    "                        placeholder='10000',\n",
    "                        type='number',\n",
    "                        persistence=True,\n",
    "                        persistence_type='session',\n",
    "                        min=1,\n",
    "                        step=0.0001,\n",
    "                        value=sOhmCirculatingSupply,\n",
    "                    ),\n",
    "                ],\n",
    "                className='mb-3',\n",
    "            ),\n",
    "            dbc.InputGroup(\n",
    "                [\n",
    "                    dbc.InputGroupAddon(dbc.InputGroupText(\n",
    "                        'Market Cap (USD) :', style={'width': 275}),\n",
    "                        addon_type='prepend'),\n",
    "                    dbc.Input(\n",
    "                        id='marketCap',\n",
    "                        placeholder='1000',\n",
    "                        type='number',\n",
    "                        persistence=True,\n",
    "                        persistence_type='session',\n",
    "                        min=1,\n",
    "                        step=0.0001,\n",
    "                        value=marketCap,\n",
    "                    ),\n",
    "                ],\n",
    "                className='mb-3',\n",
    "            ),\n",
    "            dbc.InputGroup(\n",
    "                [\n",
    "                    dbc.InputGroupAddon(dbc.InputGroupText(\n",
    "                        'TVL (USD) :', style={'width': 275}),\n",
    "                        addon_type='prepend'),\n",
    "                    dbc.Input(\n",
    "                        id='totalValueLocked',\n",
    "                        placeholder='1000',\n",
    "                        type='number',\n",
    "                        persistence=True,\n",
    "                        persistence_type='session',\n",
    "                        min=1,\n",
    "                        step=0.0001,\n",
    "                        value=tvl,\n",
    "                    ),\n",
    "                ],\n",
    "                className='mb-3',\n",
    "            ),\n",
    "            dbc.InputGroup(\n",
    "                [\n",
    "                    dbc.InputGroupAddon(\n",
    "                        dbc.InputGroupText('TreasuryRFV (USD) :',\n",
    "                                           style={'width': 275}),\n",
    "                        addon_type='prepend'),\n",
    "                    dbc.Input(\n",
    "                        id='tRFV',\n",
    "                        placeholder='1000',\n",
    "                        type='number',\n",
    "                        persistence=True,\n",
    "                        persistence_type='session',\n",
    "                        min=1,\n",
    "                        step=0.0001,\n",
    "                        value=tRFV,\n",
    "                    ),\n",
    "                ],\n",
    "                className='mb-3',\n",
    "            ),\n",
    "        ],\n",
    "        body=True,\n",
    "        className='mt-4',\n",
    "    ))"
   ]
  },
  {
   "cell_type": "markdown",
   "id": "3e68fb00",
   "metadata": {
    "heading_collapsed": true,
    "hidden": true
   },
   "source": [
    "### (3,3) Simulation parameters: Output"
   ]
  },
  {
   "cell_type": "code",
   "execution_count": null,
   "id": "7d765793",
   "metadata": {
    "hidden": true
   },
   "outputs": [],
   "source": []
  },
  {
   "cell_type": "markdown",
   "id": "16454f43",
   "metadata": {
    "heading_collapsed": true,
    "hidden": true
   },
   "source": [
    "### (3,3) Card Construction"
   ]
  },
  {
   "cell_type": "code",
   "execution_count": 146,
   "id": "fa153a24",
   "metadata": {
    "code_folding": [
     0
    ],
    "hidden": true
   },
   "outputs": [],
   "source": [
    "introLearn_card = html.Div(\n",
    "    dbc.Card(\n",
    "        [\n",
    "            dbc.CardHeader(\"Welcome to (3,3) Playground\", ),\n",
    "            dbc.CardBody(playgroundIntroduction_text),\n",
    "        ],\n",
    "        outline=True,\n",
    "        className=\"mt-4\",\n",
    "    ))"
   ]
  },
  {
   "cell_type": "code",
   "execution_count": 147,
   "id": "d1decc1a",
   "metadata": {
    "code_folding": [
     0
    ],
    "hidden": true
   },
   "outputs": [],
   "source": [
    "simulationParameters_card = html.Div(\n",
    "    dbc.Card(\n",
    "        dbc.CardBody(\n",
    "            html.Div(\n",
    "                html.Div(simulationParameters_text, className='ml-3 mt-2'), )),\n",
    "        className='mt-4',\n",
    "    ))"
   ]
  },
  {
   "cell_type": "markdown",
   "id": "a3a6c7b7",
   "metadata": {
    "heading_collapsed": true
   },
   "source": [
    "## (4,4) Bonding Information, Simulation Parameters and Output Cards"
   ]
  },
  {
   "cell_type": "markdown",
   "id": "e66ba6e5",
   "metadata": {
    "heading_collapsed": true,
    "hidden": true
   },
   "source": [
    "### (4,4) Learn Card Text"
   ]
  },
  {
   "cell_type": "code",
   "execution_count": 148,
   "id": "193b8d98",
   "metadata": {
    "code_folding": [
     0
    ],
    "hidden": true
   },
   "outputs": [],
   "source": [
    "bondingIntroduction_text = dcc.Markdown(''' \n",
    "    Bonding is the process of locking in a fixed reward in OHM. You trade in DAI for OHM at a discount\n",
    "    and the OHM is vested linearly over a period of 5 days.\n",
    "    \n",
    "    As a bonder, you win if price of OHM increases during your vesting period; when this happens you benefits the\n",
    "    discounted on OHM and the increase in price. You also win if price remains flat during the vesting period.\n",
    "    This is becuase profits are still gained from the discount.\n",
    "    \n",
    "    As a bonder, you loose if price of OHM decreases during your vesting period. If this happens, you will have to \n",
    "    decide between OHM and SLP (whichever is worth more). \n",
    "    \n",
    "    **So what is (4,4) and what does it have to do with Bonding?** \n",
    "    The (4,4) strategy is a maximizing strategy that combines the benefits of staking (3,3) and bonding (1,1). \n",
    "    (4,4) simply means staking available OHMS during the vesting period to capture staking rewards during the vesting period.\n",
    "    \n",
    "    Use this simulator to strategize (4,4) profitability. \n",
    "    \n",
    "    * This is a far more complex and active strategy when compared to (3,3). Please ensure you understand the system mechanics completely*\n",
    "    \n",
    "    Use this simulator to:\n",
    "    - Forcast additional gains from using (4,4) compared to (3,3)\n",
    "    - Forcast additional gains from staking bonding emissions every epoch\n",
    "    - Forcast additional gains from staking bonding emissions once a day\n",
    "    - Forcast additional gains from staking bonding emissions on day 2.5\n",
    "    - OHM growth over time with (4,4) strategy\n",
    "    \n",
    "    Learn more here: https://docs.olympusdao.finance/protocol-internals/market-dynamics\n",
    "                        \n",
    "    ''')"
   ]
  },
  {
   "cell_type": "markdown",
   "id": "35c88aff",
   "metadata": {
    "heading_collapsed": true,
    "hidden": true
   },
   "source": [
    "### (4,4) Play Card Text"
   ]
  },
  {
   "cell_type": "code",
   "execution_count": 149,
   "id": "4444b545",
   "metadata": {
    "code_folding": [
     0
    ],
    "hidden": true
   },
   "outputs": [],
   "source": [
    "bondingsimulationParameters_text = dcc.Markdown(\"\"\"\n",
    "    > **[Asset allocation (OHM staked)](https://docs.olympusdao.finance/basics/staking)**, **[Gas Price](https://ethereum.org/en/developers/docs/gas/)**,\n",
    "    Prices of ETH and OHM, **[Bond ROI](https://docs.olympusdao.finance/references/equations#bonding)**, **[Rebase Yields](https://docs.olympusdao.finance/basics/basics#what-is-a-rebase)** and Network Gas Fees** \n",
    "    are main factors that determine (4,4) gains over time.\n",
    "    Play with the simulator and find the parameters that maximize profitability.\n",
    "    Additionally, use the chart provided to compare (3,3) gains with (4,4) gains. \n",
    "    \n",
    "    > Hover your mouse over the chart trend lines to see live feedback on Total ohms accumulated vs days.\n",
    "    Use the slider and number input boxes to adjust parameters and see the results displayed. \n",
    "    \"\"\")"
   ]
  },
  {
   "cell_type": "markdown",
   "id": "a04347fb",
   "metadata": {
    "heading_collapsed": true,
    "hidden": true
   },
   "source": [
    "### (4,4) Simulation Parameters: Input"
   ]
  },
  {
   "cell_type": "code",
   "execution_count": 150,
   "id": "0f79bade",
   "metadata": {
    "code_folding": [
     0,
     1,
     3,
     21,
     39,
     57,
     75,
     93
    ],
    "hidden": true
   },
   "outputs": [],
   "source": [
    "bondingincooomInput_card = html.Div(\n",
    "    dbc.Card(\n",
    "        [\n",
    "            dbc.InputGroup(\n",
    "                [\n",
    "                    dbc.InputGroupAddon(dbc.InputGroupText(\n",
    "                        'Discounted OHM Price (USD) :', style={'width': 275}),\n",
    "                        addon_type='prepend'),\n",
    "                    dbc.Input(\n",
    "                        id='discountedOHMPrice',\n",
    "                        placeholder='1 USD',\n",
    "                        type='number',\n",
    "                        persistence=True,\n",
    "                        persistence_type='session',\n",
    "                        min=0.0001,\n",
    "                        step=0.0001,\n",
    "                        value=1,\n",
    "                    ),\n",
    "                ],\n",
    "                className='mb-3',\n",
    "            ),\n",
    "            dbc.InputGroup(\n",
    "                [\n",
    "                    dbc.InputGroupAddon(dbc.InputGroupText(\n",
    "                        'Amount Bonded (USD) :', style={'width': 275}),\n",
    "                        addon_type='prepend'),\n",
    "                    dbc.Input(\n",
    "                        id='amountUSDBonded',\n",
    "                        placeholder='1',\n",
    "                        type='number',\n",
    "                        persistence=True,\n",
    "                        persistence_type='session',\n",
    "                        min=0.0001,\n",
    "                        step=0.0001,\n",
    "                        value=0.3,\n",
    "                    ),\n",
    "                ],\n",
    "                className='mb-3',\n",
    "            ),\n",
    "            dbc.InputGroup(\n",
    "                [\n",
    "                    dbc.InputGroupAddon(dbc.InputGroupText(\n",
    "                        'Current Price of ETH (USD) :', style={'width': 275}),\n",
    "                        addon_type='prepend'),\n",
    "                    dbc.Input(\n",
    "                        id='priceofETH',\n",
    "                        placeholder='10000',\n",
    "                        type='number',\n",
    "                        persistence=True,\n",
    "                        persistence_type='session',\n",
    "                        min=1,\n",
    "                        step=0.0001,\n",
    "                        value=10000,\n",
    "                    ),\n",
    "                ],\n",
    "                className='mb-3',\n",
    "            ),\n",
    "            dbc.InputGroup(\n",
    "                [\n",
    "                    dbc.InputGroupAddon(dbc.InputGroupText(\n",
    "                        'Gas Price (ETH) :', style={'width': 275}),\n",
    "                        addon_type='prepend'),\n",
    "                    dbc.Input(\n",
    "                        id='gasPrice',\n",
    "                        placeholder='1000',\n",
    "                        type='number',\n",
    "                        persistence=True,\n",
    "                        persistence_type='session',\n",
    "                        min=1,\n",
    "                        step=0.0001,\n",
    "                        value=100,\n",
    "                    ),\n",
    "                ],\n",
    "                className='mb-3',\n",
    "            ),\n",
    "            dbc.InputGroup(\n",
    "                [\n",
    "                    dbc.InputGroupAddon(dbc.InputGroupText(\n",
    "                        'Bond ROI% :', style={'width': 275}),\n",
    "                        addon_type='prepend'),\n",
    "                    dbc.Input(\n",
    "                        id='bondROI',\n",
    "                        placeholder='1000',\n",
    "                        type='number',\n",
    "                        persistence=True,\n",
    "                        persistence_type='session',\n",
    "                        min=0.0001,\n",
    "                        step=0.0001,\n",
    "                        value=1000,\n",
    "                    ),\n",
    "                ],\n",
    "                className='mb-3',\n",
    "            ),\n",
    "            dbc.InputGroup(\n",
    "                [\n",
    "                    dbc.InputGroupAddon(dbc.InputGroupText(\n",
    "                        'Rebase Rate (%) :', style={'width': 275}),\n",
    "                        addon_type='prepend'),\n",
    "                    dbc.Input(\n",
    "                        id='bondRebaseRate',\n",
    "                        placeholder='1000',\n",
    "                        type='number',\n",
    "                        persistence=True,\n",
    "                        persistence_type='session',\n",
    "                        min=0.0019,\n",
    "                        max=0.4583,\n",
    "                        step=0.0001,\n",
    "                        value=0.3058,\n",
    "                    ),\n",
    "                ],\n",
    "                className='mb-3',\n",
    "            ),\n",
    "        ],\n",
    "        body=True,\n",
    "        className='mt-4',\n",
    "    ))"
   ]
  },
  {
   "cell_type": "markdown",
   "id": "7155a447",
   "metadata": {
    "heading_collapsed": true,
    "hidden": true
   },
   "source": [
    "### (4,4) Simulation Parameters: Output"
   ]
  },
  {
   "cell_type": "code",
   "execution_count": 151,
   "id": "58ecf4e3",
   "metadata": {
    "code_folding": [
     0,
     1,
     4,
     21,
     38,
     55,
     72
    ],
    "hidden": true
   },
   "outputs": [],
   "source": [
    "incooomResultsROI_card = html.Div(\n",
    "    dbc.Card(\n",
    "        [\n",
    "            dbc.CardHeader(\"% ROI based on % Reward Yield\", ),\n",
    "            dbc.InputGroup(\n",
    "                [\n",
    "                    dbc.InputGroupAddon(dbc.InputGroupText(\n",
    "                        \"Daily ROI (%) :\", style={'width': 175}),\n",
    "                        addon_type='prepend'),\n",
    "                    dbc.Input(id=\"dailyROI_P\",\n",
    "                              placeholder=\"0.01\",\n",
    "                              type=\"number\",\n",
    "                              persistence=True,\n",
    "                              persistence_type=\"session\",\n",
    "                              min=0,\n",
    "                              step=0.0001,\n",
    "                              value=0.0001,\n",
    "                              disabled=True),\n",
    "                ],\n",
    "                className=\"mb-3\",\n",
    "            ),\n",
    "            dbc.InputGroup(\n",
    "                [\n",
    "                    dbc.InputGroupAddon(dbc.InputGroupText(\n",
    "                        \"5 Day % ROI (%) :\", style={'width': 175}),\n",
    "                        addon_type='prepend'),\n",
    "                    dbc.Input(id=\"fivedayROI_P\",\n",
    "                              placeholder=\"0.01%\",\n",
    "                              type=\"number\",\n",
    "                              persistence=True,\n",
    "                              persistence_type=\"session\",\n",
    "                              min=0,\n",
    "                              step=0.0001,\n",
    "                              value=0.0001,\n",
    "                              disabled=True),\n",
    "                ],\n",
    "                className=\"mb-3\",\n",
    "            ),\n",
    "            dbc.InputGroup(\n",
    "                [\n",
    "                    dbc.InputGroupAddon(dbc.InputGroupText(\n",
    "                        \"7 Day % ROI (%) :\", style={'width': 175}),\n",
    "                        addon_type='prepend'),\n",
    "                    dbc.Input(id=\"sevendayROI_P\",\n",
    "                              placeholder=\"0.01%\",\n",
    "                              type=\"number\",\n",
    "                              persistence=True,\n",
    "                              persistence_type=\"session\",\n",
    "                              min=0,\n",
    "                              step=0.0001,\n",
    "                              value=0.0001,\n",
    "                              disabled=True),\n",
    "                ],\n",
    "                className=\"mb-3\",\n",
    "            ),\n",
    "            dbc.InputGroup(\n",
    "                [\n",
    "                    dbc.InputGroupAddon(dbc.InputGroupText(\n",
    "                        \"1 Month % ROI (%) :\", style={'width': 175}),\n",
    "                        addon_type='prepend'),\n",
    "                    dbc.Input(id=\"monthlyROI_P\",\n",
    "                              placeholder=\"0.01%\",\n",
    "                              type=\"number\",\n",
    "                              persistence=True,\n",
    "                              persistence_type=\"session\",\n",
    "                              min=0,\n",
    "                              step=0.0001,\n",
    "                              value=0.0001,\n",
    "                              disabled=True),\n",
    "                ],\n",
    "                className=\"mb-3\",\n",
    "            ),\n",
    "            dbc.InputGroup(\n",
    "                [\n",
    "                    dbc.InputGroupAddon(dbc.InputGroupText(\n",
    "                        \"1 Year % ROI (%) :\", style={'width': 175}),\n",
    "                        addon_type='prepend'),\n",
    "                    dbc.Input(id=\"annualROI_P\",\n",
    "                              placeholder=\"0.01%\",\n",
    "                              type=\"number\",\n",
    "                              persistence=True,\n",
    "                              persistence_type=\"session\",\n",
    "                              min=0,\n",
    "                              step=0.0001,\n",
    "                              value=0.0001,\n",
    "                              disabled=True),\n",
    "                ],\n",
    "                className=\"mb-3\",\n",
    "            ),\n",
    "        ],\n",
    "        body=True,\n",
    "        className=\"mt-4\",\n",
    "    ))"
   ]
  },
  {
   "cell_type": "code",
   "execution_count": 152,
   "id": "aad021cc",
   "metadata": {
    "code_folding": [
     0,
     1,
     3,
     16,
     34,
     52,
     70,
     88
    ],
    "hidden": true
   },
   "outputs": [],
   "source": [
    "incooomResultsForcast_card = html.Div(\n",
    "    dbc.Card(\n",
    "        [\n",
    "            dbc.InputGroup(\n",
    "                [\n",
    "                    dbc.InputGroupAddon(dbc.InputGroupText(\n",
    "                        \"Days to reach desired USD Target :\",\n",
    "                        style={'width': 375}),\n",
    "                        addon_type='prepend'),\n",
    "                    dbc.Input(id=\"forcastUSDTarget\",\n",
    "                              placeholder=\"10\",\n",
    "                              type=\"number\",\n",
    "                              disabled=True),\n",
    "                ],\n",
    "                className=\"mb-3\",\n",
    "            ),\n",
    "            dbc.InputGroup(\n",
    "                [\n",
    "                    dbc.InputGroupAddon(dbc.InputGroupText(\n",
    "                        \"Days to reach desired OHM Target :\",\n",
    "                        style={'width': 375}),\n",
    "                        addon_type='prepend'),\n",
    "                    dbc.Input(id=\"forcastOHMTarget\",\n",
    "                              placeholder=\"10\",\n",
    "                              type=\"number\",\n",
    "                              persistence=True,\n",
    "                              persistence_type=\"session\",\n",
    "                              min=0,\n",
    "                              step=0.0001,\n",
    "                              value=0.0001,\n",
    "                              disabled=True),\n",
    "                ],\n",
    "                className=\"mb-3\",\n",
    "            ),\n",
    "            dbc.InputGroup(\n",
    "                [\n",
    "                    dbc.InputGroupAddon(dbc.InputGroupText(\n",
    "                        \"Days to reach desired daily Incooom :\",\n",
    "                        style={'width': 375}),\n",
    "                        addon_type='prepend'),\n",
    "                    dbc.Input(id=\"forcastDailyIncooom\",\n",
    "                              placeholder=\"10\",\n",
    "                              type=\"number\",\n",
    "                              persistence=True,\n",
    "                              persistence_type=\"session\",\n",
    "                              min=0,\n",
    "                              step=0.0001,\n",
    "                              value=0.0001,\n",
    "                              disabled=True),\n",
    "                ],\n",
    "                className=\"mb-3\",\n",
    "            ),\n",
    "            dbc.InputGroup(\n",
    "                [\n",
    "                    dbc.InputGroupAddon(dbc.InputGroupText(\n",
    "                        \"Required OHM for desired Incooom\",\n",
    "                        style={'width': 375}),\n",
    "                        addon_type='prepend'),\n",
    "                    dbc.Input(id=\"requiredOHMDailyIncooom\",\n",
    "                              placeholder=\"0.01%\",\n",
    "                              type=\"number\",\n",
    "                              persistence=True,\n",
    "                              persistence_type=\"session\",\n",
    "                              min=0,\n",
    "                              step=0.0001,\n",
    "                              value=0.0001,\n",
    "                              disabled=True),\n",
    "                ],\n",
    "                className=\"mb-3\",\n",
    "            ),\n",
    "            dbc.InputGroup(\n",
    "                [\n",
    "                    dbc.InputGroupAddon(dbc.InputGroupText(\n",
    "                        \"Days to reach desired weekly Incooom :\",\n",
    "                        style={'width': 375}),\n",
    "                        addon_type='prepend'),\n",
    "                    dbc.Input(id=\"forcastWeeklyIncooom\",\n",
    "                              placeholder=\"0.01%\",\n",
    "                              type=\"number\",\n",
    "                              persistence=True,\n",
    "                              persistence_type=\"session\",\n",
    "                              min=0,\n",
    "                              step=0.0001,\n",
    "                              value=0.0001,\n",
    "                              disabled=True),\n",
    "                ],\n",
    "                className=\"mb-3\",\n",
    "            ),\n",
    "            dbc.InputGroup(\n",
    "                [\n",
    "                    dbc.InputGroupAddon(dbc.InputGroupText(\n",
    "                        \"Required OHM for desired weekly Incooom :\",\n",
    "                        style={'width': 375}),\n",
    "                        addon_type='prepend'),\n",
    "                    dbc.Input(id=\"requiredOHMWeeklyIncooom\",\n",
    "                              placeholder=\"0.01%\",\n",
    "                              type=\"number\",\n",
    "                              persistence=True,\n",
    "                              persistence_type=\"session\",\n",
    "                              min=0,\n",
    "                              step=0.0001,\n",
    "                              value=0.0001,\n",
    "                              disabled=True),\n",
    "                ],\n",
    "                className=\"mb-3\",\n",
    "            ),\n",
    "        ],\n",
    "        body=True,\n",
    "        className=\"mt-4\",\n",
    "    ))"
   ]
  },
  {
   "cell_type": "markdown",
   "id": "9e18f6fe",
   "metadata": {
    "heading_collapsed": true,
    "hidden": true
   },
   "source": [
    "### (4,4) Card Construction"
   ]
  },
  {
   "cell_type": "code",
   "execution_count": 153,
   "id": "943f6411",
   "metadata": {
    "code_folding": [
     0
    ],
    "hidden": true
   },
   "outputs": [],
   "source": [
    "bondingLearn_card = html.Div(\n",
    "    dbc.Card(\n",
    "        [\n",
    "            dbc.CardHeader(\"Welcome to (4,4) Playground\", ),\n",
    "            dbc.CardBody(bondingIntroduction_text),\n",
    "        ],\n",
    "        outline=True,\n",
    "        className=\"mt-4\",\n",
    "    ))"
   ]
  },
  {
   "cell_type": "code",
   "execution_count": 154,
   "id": "54c27455",
   "metadata": {
    "code_folding": [
     0
    ],
    "hidden": true
   },
   "outputs": [],
   "source": [
    "bondingsimulationParameters_card = html.Div(\n",
    "    dbc.Card(\n",
    "        dbc.CardBody(\n",
    "            html.Div(\n",
    "                html.Div(bondingsimulationParameters_text,\n",
    "                         className='ml-3 mt-2'), )),\n",
    "        className='mt-4',\n",
    "    ))"
   ]
  },
  {
   "cell_type": "markdown",
   "id": "d5e31d86",
   "metadata": {
    "heading_collapsed": true
   },
   "source": [
    "## App Interface: Tabs"
   ]
  },
  {
   "cell_type": "markdown",
   "id": "fea98fda",
   "metadata": {
    "heading_collapsed": true,
    "hidden": true
   },
   "source": [
    "### (3,3) Tab"
   ]
  },
  {
   "cell_type": "code",
   "execution_count": 155,
   "id": "53b54893",
   "metadata": {
    "code_folding": [
     0,
     1,
     3,
     12
    ],
    "hidden": true
   },
   "outputs": [],
   "source": [
    "tabs = html.Div(\n",
    "    dbc.Tabs(\n",
    "        [\n",
    "            dbc.Tab(\n",
    "                introLearn_card,\n",
    "                tab_id='introLearn_tab',\n",
    "                label='Learn: The (3,3) Strategy',\n",
    "                label_style={\n",
    "                    \"font-size\": \"120%\",\n",
    "                    \"width\": \"250px\"\n",
    "                },\n",
    "            ),\n",
    "            dbc.Tab(\n",
    "                [simulationParameters_card, incooomInput_card],\n",
    "                tab_id='simulationParameters_tab',\n",
    "                label='Play',\n",
    "                label_style={\n",
    "                    \"font-size\": \"150%\",\n",
    "                    \"width\": \"125px\"\n",
    "                },\n",
    "            ),\n",
    "        ],\n",
    "        id='tabs',\n",
    "        active_tab='introLearn_tab',\n",
    "    ),\n",
    "    style={\"minHeight\": \"800px\"},)"
   ]
  },
  {
   "cell_type": "markdown",
   "id": "ecce8257",
   "metadata": {
    "heading_collapsed": true,
    "hidden": true
   },
   "source": [
    "### (4,4) Tab"
   ]
  },
  {
   "cell_type": "code",
   "execution_count": 156,
   "id": "e7b7803d",
   "metadata": {
    "code_folding": [
     0,
     1,
     3,
     12
    ],
    "hidden": true
   },
   "outputs": [],
   "source": [
    "bondingtabs = html.Div(\n",
    "    dbc.Tabs(\n",
    "        [\n",
    "            dbc.Tab(\n",
    "                bondingLearn_card,\n",
    "                tab_id='bondingLearn_tab',\n",
    "                label='Learn: The (4,4) Strategy',\n",
    "                label_style={\n",
    "                    \"font-size\": \"120%\",\n",
    "                    \"width\": \"250px\"\n",
    "                },\n",
    "            ),\n",
    "            dbc.Tab(\n",
    "                [bondingsimulationParameters_card, bondingincooomInput_card],\n",
    "                tab_id='bondingsimulationParameters_tab',\n",
    "                label='Play',\n",
    "                label_style={\n",
    "                    \"font-size\": \"150%\",\n",
    "                    \"width\": \"125px\"\n",
    "                },\n",
    "            ),\n",
    "        ],\n",
    "        id='bondingtabs',\n",
    "        active_tab='bondingLearn_tab',\n",
    "    ),\n",
    "    style={\"minHeight\": \"800px\"},)"
   ]
  },
  {
   "cell_type": "markdown",
   "id": "fd75db58",
   "metadata": {},
   "source": [
    "## App Interface: Construction"
   ]
  },
  {
   "cell_type": "code",
   "execution_count": 157,
   "id": "6e2599df",
   "metadata": {
    "code_folding": [
     3,
     8,
     16,
     50,
     58
    ]
   },
   "outputs": [],
   "source": [
    "external_stylesheets = [dbc.themes.SPACELAB, FONT_AWESOME,dataSheet_url]\n",
    "app = JupyterDash(__name__, external_stylesheets=external_stylesheets)\n",
    "server = app.server\n",
    "app.layout = dbc.Container(\n",
    "    [\n",
    "        \n",
    "# -------------------------------------------Row 1 = Main Header Begin-----------------------------------------\n",
    "# Title row\n",
    "        dbc.Row(\n",
    "            dbc.Col(html.H1(\"OlympusDAO Playground\",\n",
    "                            className=\"text-center bg-light text-black p-2\"),\n",
    "                    width=12)),\n",
    "# -------------------------------------------Row 1 = Main Header End-------------------------------------------\n",
    "\n",
    "# -------------------------------------------Row 2 = (3,3) Tab and ohm growth chart Begin----------------------\n",
    "# Instruction and ohm growth chart row\n",
    "        dbc.Row(\n",
    "            [\n",
    "# Welcome message and Instructions column\n",
    "                dbc.Col(\n",
    "                    tabs,\n",
    "                    width={\n",
    "                        \"size\": 4,\n",
    "                        \"order\": 1\n",
    "                    },\n",
    "                    className=\"mt-4 border\",\n",
    "                ),\n",
    "# ohm growth output column\n",
    "                dbc.Col(\n",
    "                    [\n",
    "                        dcc.Graph(id='ohmGrowthChart', className='mb-2'),\n",
    "# ROI output column\n",
    "                        dbc.Row([\n",
    "                            dbc.Col(incooomResultsROI_card, width=4),\n",
    "                            dbc.Col(incooomResultsForcast_card, width=8),\n",
    "                        ])\n",
    "                    ],\n",
    "                    width={\n",
    "                        \"size\": 8,\n",
    "                        \"order\": 2\n",
    "                    },\n",
    "                    className=\"pt-4 \",\n",
    "                ),\n",
    "            ],\n",
    "            className='ml-4',\n",
    "            align='center'),\n",
    "# -------------------------------------------Row 2 = (3,3) Tab and ohm growth chart End----------------------\n",
    "\n",
    "# -------------------------------------------Row 3 = Bonding Header Begin-------------------------------\n",
    "# Title row\n",
    "        dbc.Row(\n",
    "            dbc.Col(html.H1(\"Bonding Simulator\",\n",
    "                            className=\"text-center bg-light text-black p-1\"),\n",
    "                    width=12)),      \n",
    "# -------------------------------------------Row 3 = Bonding Header End---------------------------------\n",
    "\n",
    "# -------------------------------------------Row 4 = Bonding Tabs and Results Begin---------------------\n",
    "# Instruction and ohm growth chart row\n",
    "        dbc.Row(\n",
    "            [\n",
    "# Welcome message and Instructions column\n",
    "                dbc.Col(\n",
    "                    bondingtabs,\n",
    "                    width={\n",
    "                        \"size\": 4,\n",
    "                        \"order\": 1\n",
    "                    },\n",
    "                    className=\"mt-4 border\",\n",
    "                ),\n",
    "# ohm growth output column\n",
    "                dbc.Col(\n",
    "                    [\n",
    "                        dcc.Graph(id='bondingAPYChart', className='mb-2'),\n",
    "                    ],\n",
    "                    width={\n",
    "                        \"size\": 8,\n",
    "                        \"order\": 2\n",
    "                    },\n",
    "                    className=\"pt-4 \",\n",
    "                ),\n",
    "            ],\n",
    "            className='ml-4',\n",
    "            align='center'),\n",
    "# -------------------------------------------Row 4 = Bonding Tabs and Results End-----------------------\n",
    "\n",
    "# ------------------------------Footer Begin------------------------------------------------------------\n",
    "        dbc.Row(dbc.Col(footer, className='text-center mt-5')),\n",
    "# -------------------------------Footer End-------------------------------------------------------------\n",
    "        \n",
    "    ],\n",
    "    fluid=True)"
   ]
  },
  {
   "cell_type": "markdown",
   "id": "55186527",
   "metadata": {
    "heading_collapsed": true
   },
   "source": [
    "# Core Code"
   ]
  },
  {
   "cell_type": "markdown",
   "id": "e3b81f68",
   "metadata": {
    "heading_collapsed": true,
    "hidden": true
   },
   "source": [
    "## Read data sources: Coingecko and Hippo data source"
   ]
  },
  {
   "cell_type": "code",
   "execution_count": 158,
   "id": "6dd0e11a",
   "metadata": {
    "code_folding": [],
    "hidden": true
   },
   "outputs": [],
   "source": [
    "ohmCirculatingSupply = float(dataStream.iloc[0]['ohmCirculatingSupply'].replace(',',''))\n",
    "sOhmCirculatingSupply = float(dataStream.iloc[0]['sOhmCirculatingSupply'].replace(',',''))\n",
    "totalSupply = float(dataStream.iloc[0]['totalSupply'].replace(',',''))\n",
    "ohmPrice = float(dataStream.iloc[0]['ohmPrice'].replace(',','').replace('$',''))\n",
    "marketCap = float(dataStream.iloc[0]['marketCap'].replace(',','').replace('$',''))\n",
    "tvl = float(dataStream.iloc[0]['totalValueLocked'].replace(',','').replace('$',''))\n",
    "tRFV = float(dataStream.iloc[0]['treasuryRiskFreeValue'].replace(',','').replace('$',''))\n",
    "tMFV = float(dataStream.iloc[0]['treasuryMarketValue'].replace(',','').replace('$',''))\n",
    "nextEpochRebase = dataStream.iloc[0]['nextEpochRebase']"
   ]
  },
  {
   "cell_type": "markdown",
   "id": "fc2a814b",
   "metadata": {
    "heading_collapsed": true,
    "hidden": true
   },
   "source": [
    "## Data Frame construction"
   ]
  },
  {
   "cell_type": "markdown",
   "id": "e8932bdf",
   "metadata": {
    "heading_collapsed": true,
    "hidden": true
   },
   "source": [
    "### Data Frame construction: Ohm Growth"
   ]
  },
  {
   "cell_type": "code",
   "execution_count": 159,
   "id": "1afcc387",
   "metadata": {
    "code_folding": [
     1
    ],
    "hidden": true
   },
   "outputs": [],
   "source": [
    "# Data frame to hold all required data point. Data required would be Epochs since rebase are distributed every Epoch\n",
    "ohmGrowth_df = pd.DataFrame(np.arange(1096), columns=[\n",
    "    'Epochs'\n",
    "])  # In this case let's consider 1096 Epochs which is 365 days\n",
    "ohmGrowth_df[\n",
    "    'Days'] = ohmGrowth_df.Epochs / 3  # There are 3 Epochs per day so divide by 3 to get Days"
   ]
  },
  {
   "cell_type": "code",
   "execution_count": 160,
   "id": "3d47da8f",
   "metadata": {
    "code_folding": [
     2,
     10,
     18,
     26,
     34,
     42
    ],
    "hidden": true
   },
   "outputs": [],
   "source": [
    "# Data frame to hold OIP-18\n",
    "# Start by creating a dictionary \n",
    "oip18_dict = {'Total OHM supply range min':['0',\n",
    "                                            '1,000,000',\n",
    "                                           '10,000,000',\n",
    "                                           '100,000,000',\n",
    "                                           '1,000,000,000',\n",
    "                                           '10,000,000,000',\n",
    "                                           '100,000,000,000'],\n",
    "              \n",
    "              'Total OHM supply range max':['1,000,000',\n",
    "                                            '10,000,000',\n",
    "                                            '100,000,000',\n",
    "                                            '1,000,000,000',\n",
    "                                            '10,000,000,000',\n",
    "                                            '100,000,000,000',\n",
    "                                            '1,000,000,000,000'],\n",
    "              \n",
    "              'Min Reward Rate (%)':[0.3058,\n",
    "                                     0.1587,\n",
    "                                     0.1186,\n",
    "                                     0.0458,\n",
    "                                     0.0148,\n",
    "                                     0.0039,\n",
    "                                     0.0019],\n",
    "              \n",
    "              'Max Reward Rate (%)':[0.4583,\n",
    "                                     0.3058,\n",
    "                                     0.1587,\n",
    "                                     0.1186,\n",
    "                                     0.0458,\n",
    "                                     0.0148,\n",
    "                                     0.0039],\n",
    "              \n",
    "              'Min APY% (Assuming 90% Staked)':[10000,\n",
    "                                     1000,\n",
    "                                     500,\n",
    "                                     100,\n",
    "                                     25,\n",
    "                                     6,\n",
    "                                     3],\n",
    "              \n",
    "              'Max APY% (Assumung 90% Staked)':[100000,\n",
    "                                     10000,\n",
    "                                     1000,\n",
    "                                     500,\n",
    "                                     100,\n",
    "                                     25,\n",
    "                                     6],\n",
    "              \n",
    "             }\n",
    "# Then convert to pandas data frame\n",
    "oip18_dataFrame = pd.DataFrame(oip18_dict)"
   ]
  },
  {
   "cell_type": "markdown",
   "id": "f2927e1a",
   "metadata": {
    "heading_collapsed": true,
    "hidden": true
   },
   "source": [
    "## Funtions and Callbacks"
   ]
  },
  {
   "cell_type": "markdown",
   "id": "6307f905",
   "metadata": {
    "heading_collapsed": true,
    "hidden": true
   },
   "source": [
    "### Functions and Callbacks: (3,3) Simulations\n",
    " Ohm growth section: This section calculates and plots the projected ohm growth over time (1000 days)"
   ]
  },
  {
   "cell_type": "code",
   "execution_count": 161,
   "id": "b1a42385",
   "metadata": {
    "code_folding": [
     5,
     15,
     19,
     23,
     26,
     32
    ],
    "hidden": true
   },
   "outputs": [],
   "source": [
    "# Define callback to update the ohmGrowthChart. As user changes the initial staked ohm, the chart updates dynamically\n",
    "@app.callback(Output('ohmGrowthChart', 'figure'),\n",
    "              Input(\"initialOhms\", \"value\"), Input('rewardYield', 'value'))\n",
    "# ================================================================================\n",
    "# This function calculates and generates the ohm growth over time using the initial staked ohm as a starting point\n",
    "def update_figure(initialOhms, rewardYield):\n",
    "\n",
    "    # To Calculate the ohm growth over 3000 Epochs or 1000 days, we loop through the exponential ohm growth equation every epoch\n",
    "\n",
    "    totalOhms = [\n",
    "    ]  # create an empty array that will hold the componded rewards\n",
    "    rewardYield = round(rewardYield / 100, 5)\n",
    "\n",
    "    ohmStakedGrowth = initialOhms  # Initial staked ohms used to project growth over time\n",
    "    # Initialize the for loop to have loops equal to number of rows or number of epochs\n",
    "    for elements in ohmGrowth_df.Epochs:\n",
    "        totalOhms.append(\n",
    "            ohmStakedGrowth\n",
    "        )  # populate the empty array with calclated values each iteration\n",
    "        ohmStakedGrowth = ohmStakedGrowth * (\n",
    "            1 + rewardYield)  # compound the total amount of ohms\n",
    "    ohmGrowth_df[\n",
    "        'Total_Ohms'] = totalOhms  # Clean up and add the new array to the main data frame\n",
    "    ohmGrowth_df.Days = np.around(\n",
    "        ohmGrowth_df.Days, decimals=1\n",
    "    )  # Python is funny so let's round up our numbers . 1 decimal place for days\",\n",
    "    ohmGrowth_df.Total_Ohms = np.around(\n",
    "        ohmGrowth_df.Total_Ohms, decimals=3\n",
    "    )  # Python is funny so let's round up our numbers . 3 decimal place for ohms\"\n",
    "\n",
    "    # ================================================================================\n",
    "\n",
    "    return px.line(ohmGrowth_df,\n",
    "                   x=\"Days\",\n",
    "                   y=\"Total_Ohms\",\n",
    "                   render_mode=\"webgl\",\n",
    "                   title=\"Accumulated Ohms\")"
   ]
  },
  {
   "cell_type": "code",
   "execution_count": 162,
   "id": "47780c20",
   "metadata": {
    "code_folding": [
     27,
     34,
     41,
     48,
     55,
     58,
     75,
     80,
     85,
     88,
     94,
     97
    ],
    "hidden": true
   },
   "outputs": [],
   "source": [
    "# Define ROI callbacks to update the roi output objects and incooom forcasts. \n",
    "@app.callback(Output('dailyROI_P', 'value'), Output('fivedayROI_P', 'value'),\n",
    "              Output('sevendayROI_P', 'value'), Output('monthlyROI_P','value'),\n",
    "              Output('annualROI_P', 'value'),\n",
    "              Output('forcastUSDTarget', 'value'),\n",
    "              Output('forcastOHMTarget', 'value'),\n",
    "              Output('forcastDailyIncooom', 'value'),\n",
    "              Output('requiredOHMDailyIncooom', 'value'),\n",
    "              Output('forcastWeeklyIncooom', 'value'),\n",
    "              Output('requiredOHMWeeklyIncooom', 'value'),\n",
    "              Input(\"rewardYield\", \"value\"), Input(\"initialOhms\", \"value\"),\n",
    "              Input(\"desiredUSDTarget\", \"value\"),\n",
    "              Input(\"desiredOHMTarget\", \"value\"),\n",
    "              Input(\"desiredDailyIncooom\", \"value\"),\n",
    "              Input(\"desiredWeeklyIncooom\", \"value\"))\n",
    "# ================================================================================\n",
    "def update_Incooom(rewardYield, initialOhms, desiredUSDTarget,\n",
    "                   desiredOHMTarget, desiredDailyIncooom,\n",
    "                   desiredWeeklyIncooom):\n",
    "    ohmStakedInit = initialOhms\n",
    "    rewardYield = round(rewardYield / 100, 5)\n",
    "    rebaseConst = 1 + rewardYield\n",
    "    # current staking %APY. Need to make this read from a source or user entry\n",
    "    currentAPY = 17407 / 100\n",
    "\n",
    "    # Let's get some ROI Outputs starting with the daily\n",
    "    dailyROI = (\n",
    "        1 + rewardYield\n",
    "    )**3 - 1  # Equation to calculate your daily ROI based on reward Yield\n",
    "    dailyROI_P = round(dailyROI * 100, 2)  # daily ROI in Percentage\n",
    "    # ================================================================================\n",
    "\n",
    "    # 5 day ROI\n",
    "    fivedayROI = (1 + rewardYield)**(\n",
    "        5 *\n",
    "        3) - 1  # Equation to calculate your 5 day ROI based on reward Yield\n",
    "    fivedayROI_P = round(fivedayROI * 100, 2)  # 5 day ROI in Percentage\n",
    "    # ================================================================================\n",
    "\n",
    "    # 7 day ROI\n",
    "    sevendayROI = (1 + rewardYield)**(\n",
    "        7 *\n",
    "        3) - 1  # Equation to calculate your 7 day ROI based on reward Yield\n",
    "    sevendayROI_P = round(sevendayROI * 100, 2)  # 7 day ROI in Percentage\n",
    "    # ================================================================================\n",
    "\n",
    "    # 30 day ROI\n",
    "    monthlyROI = (1 + rewardYield)**(\n",
    "        30 *\n",
    "        3) - 1  # Equation to calculate your 30 day ROI based on reward Yield\n",
    "    monthlyROI_P = round(monthlyROI * 100, 2)  # 30 day ROI in Percentage\n",
    "    # ================================================================================\n",
    "\n",
    "    # Annual ROI\n",
    "    annualROI = (1 + rewardYield)**(\n",
    "        365 *\n",
    "        3) - 1  # Equation to calculate your annual ROI based on reward Yield\n",
    "    annualROI_P = round(\n",
    "        annualROI * 100,\n",
    "        2)  # Equation to calculate your annual ROI based on reward Yield\n",
    "    # ================================================================================\n",
    "\n",
    "    # Let's create a nice looking table to view the results of our calculations. The table will contain the ROIs and the percentages\n",
    "    roiData = [['Daily', dailyROI_P], ['5 Day', fivedayROI_P],\n",
    "               ['7 Day', sevendayROI_P], ['1 Month', monthlyROI_P],\n",
    "               ['1 Year', annualROI_P]]\n",
    "    roiTabulated_df = pd.DataFrame(roiData, columns=['Cadence', 'Percentage'])\n",
    "    roiDataTable = roiTabulated_df.to_dict('rows')\n",
    "    columns = [{\n",
    "        'name': i,\n",
    "        'id': i,\n",
    "    } for i in (roiTabulated_df.columns)]\n",
    "    # ================================================================================\n",
    "    # Days until you reach target USD by staking only\n",
    "    forcastUSDTarget = round(\n",
    "        (math.log(desiredUSDTarget / (ohmStakedInit * ohmPrice), rebaseConst) /\n",
    "         3))\n",
    "    # ================================================================================\n",
    "    # Days until you reach target OHM by staking only\n",
    "    forcastOHMTarget = round(\n",
    "        math.log(desiredOHMTarget / (ohmStakedInit), rebaseConst) / 3)\n",
    "    # ================================================================================\n",
    "    # Daily Incooom calculations\n",
    "    # Required OHMs until you are earning your desired daily incooom\n",
    "    requiredOHMDailyIncooom = round(\n",
    "        (desiredDailyIncooom / dailyROI) / ohmPrice)\n",
    "    # Days until you are earning your desired daily incooom from your current initial staked OHM amount\n",
    "    forcastDailyIncooom = round(\n",
    "        math.log((requiredOHMDailyIncooom / ohmStakedInit), rebaseConst) / 3)\n",
    "    requiredUSDForDailyIncooom = requiredOHMDailyIncooom * ohmPrice\n",
    "    # ================================================================================\n",
    "    # Weekly Incooom calculations\n",
    "    # Required OHMs until you are earning your desired weekly incooom\n",
    "    requiredOHMWeeklyIncooom = round(\n",
    "        (desiredWeeklyIncooom / sevendayROI) / ohmPrice)\n",
    "    # Days until you are earning your desired weekly incooom from your current initial staked OHM amount\n",
    "    forcastWeeklyIncooom = round(\n",
    "        math.log((requiredOHMWeeklyIncooom / ohmStakedInit), rebaseConst) / 3)\n",
    "    requiredUSDForWeeklyIncooom = requiredOHMWeeklyIncooom * ohmPrice\n",
    "    # ================================================================================\n",
    "\n",
    "    return dailyROI_P, fivedayROI_P, sevendayROI_P, monthlyROI_P, annualROI_P, forcastUSDTarget, forcastOHMTarget, forcastDailyIncooom, requiredOHMDailyIncooom, forcastWeeklyIncooom, requiredOHMWeeklyIncooom"
   ]
  },
  {
   "cell_type": "markdown",
   "id": "e62e8d15",
   "metadata": {},
   "source": [
    "# Execute app"
   ]
  },
  {
   "cell_type": "code",
   "execution_count": 163,
   "id": "92825a69",
   "metadata": {},
   "outputs": [
    {
     "name": "stdout",
     "output_type": "stream",
     "text": [
      "Dash app running on http://127.0.0.1:8050/\n"
     ]
    }
   ],
   "source": [
    "# Run app and display result inline in the notebook\n",
    "app.run_server()"
   ]
  }
 ],
 "metadata": {
  "kernelspec": {
   "display_name": "Python 3",
   "language": "python",
   "name": "python3"
  },
  "language_info": {
   "codemirror_mode": {
    "name": "ipython",
    "version": 3
   },
   "file_extension": ".py",
   "mimetype": "text/x-python",
   "name": "python",
   "nbconvert_exporter": "python",
   "pygments_lexer": "ipython3",
   "version": "3.8.10"
  },
  "toc": {
   "base_numbering": 1,
   "nav_menu": {},
   "number_sections": true,
   "sideBar": true,
   "skip_h1_title": false,
   "title_cell": "Table of Contents",
   "title_sidebar": "Contents",
   "toc_cell": false,
   "toc_position": {
    "height": "calc(100% - 180px)",
    "left": "10px",
    "top": "150px",
    "width": "308px"
   },
   "toc_section_display": true,
   "toc_window_display": true
  },
  "varInspector": {
   "cols": {
    "lenName": 16,
    "lenType": 16,
    "lenVar": 40
   },
   "kernels_config": {
    "python": {
     "delete_cmd_postfix": "",
     "delete_cmd_prefix": "del ",
     "library": "var_list.py",
     "varRefreshCmd": "print(var_dic_list())"
    },
    "r": {
     "delete_cmd_postfix": ") ",
     "delete_cmd_prefix": "rm(",
     "library": "var_list.r",
     "varRefreshCmd": "cat(var_dic_list()) "
    }
   },
   "types_to_exclude": [
    "module",
    "function",
    "builtin_function_or_method",
    "instance",
    "_Feature"
   ],
   "window_display": false
  }
 },
 "nbformat": 4,
 "nbformat_minor": 5
}
