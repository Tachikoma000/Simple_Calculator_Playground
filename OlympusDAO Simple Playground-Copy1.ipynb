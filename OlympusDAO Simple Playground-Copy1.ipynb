{
 "cells": [
  {
   "cell_type": "markdown",
   "id": "72a476fb",
   "metadata": {},
   "source": [
    "# Welcome to Olympus Playground\n",
    "\n",
    "This is an interactive notebook to study, play and forcast the growth of your ohm over time. This notebook is designed to work hand in hand with the awesome gitbook created by the DAO and all of Brians calcs!"
   ]
  },
  {
   "cell_type": "markdown",
   "id": "174f1457",
   "metadata": {},
   "source": [
    "\n",
    "## This calculator will provide the following projections for you: \n",
    "\n",
    "#### ROIs at current reward yield\n",
    "\n",
    "   * ROI after 1 day at current reward yield\n",
    "  ___\n",
    "   * ROI after 5 days at current reward yield\n",
    "        * OHM and USD ROI and holding value in 5 days\n",
    "  ___      \n",
    "   * ROI after 7 days at current reward yield\n",
    "        * OMH and USD ROI and holding value in 7 days\n",
    "  ___ \n",
    "   * ROI after 1 month at current reward yield\n",
    "        * OHM and USD ROI and holding value in 1 Month\n",
    "  ___ \n",
    "   * ROI after 1 year at current reward yield\n",
    "        * OHM and USD ROI and holding value in 1 Year\n",
    "  ___  \n",
    "   * Desired target USD\n",
    "       * Days until desired target USD\n",
    "  ___\n",
    "   * Desired target OHM\n",
    "       * Days until desired target OHM\n",
    "  ___\n",
    "   * OHM and USD ROI and holding on specific date. This data will be provided on an interactive chart where you can hover your mouse over any desired date and view the projection.\n",
    "\n",
    "####  Incooom\n",
    "   * Desired daily incooom \n",
    "     * Required OHM to reach goal\n",
    "     * Days until you reach required OHMs for daily incoom (Assuming growth by staking alone)\n",
    "     * Estimated date \n",
    "  ___  \n",
    "   * Desire weekly incooom \n",
    "     * Required OHM to reach goal\n",
    "     * weeks until you reach required OHMs for weeks incoom (Assuming growth by staking alone)\n",
    "     * Estimated date "
   ]
  },
  {
   "cell_type": "markdown",
   "id": "9d0f831b",
   "metadata": {},
   "source": [
    "## Libraries\n",
    "###### Before doing anything in python, we need to first import all neccesarry tools to help with computation. You don't have to worry though, all libraries for basic stuff have been imported for you! However, if you're a python wiz or have some neat tools in mind to enhance your experience"
   ]
  },
  {
   "cell_type": "code",
   "execution_count": 6,
   "id": "1edad166",
   "metadata": {},
   "outputs": [],
   "source": [
    "# Import all necessary libraries\n",
    "import math # Needed for basic math operations\\n\",\n",
    "import pandas as pd # Needed fpr dataframe creation and operations\\n\",\n",
    "import numpy as np # Needed for array manipulations\\n\",\n",
    "from itertools import islice # Needed for more complex row and coloumn slicing\\n\",\n",
    "import matplotlib.pyplot as plt # Needed for quickly ploting results\""
   ]
  },
  {
   "cell_type": "markdown",
   "id": "0fedff84",
   "metadata": {},
   "source": [
    "____"
   ]
  },
  {
   "cell_type": "markdown",
   "id": "ab382fa4",
   "metadata": {},
   "source": [
    "## Price feed\n",
    "###### We need to keep track of the most recent ohm price for our projections, here we will be using a simple api to grab ohm price from coingecko"
   ]
  },
  {
   "cell_type": "code",
   "execution_count": 7,
   "id": "e27ef4d6",
   "metadata": {},
   "outputs": [],
   "source": [
    "from pycoingecko import CoinGeckoAPI # Pulls live data from coingecko\n",
    "cg = CoinGeckoAPI() # Pulls live price feed from coingecko"
   ]
  },
  {
   "cell_type": "markdown",
   "id": "61cfb606",
   "metadata": {},
   "source": [
    "___"
   ]
  },
  {
   "cell_type": "markdown",
   "id": "5a6127ea",
   "metadata": {},
   "source": [
    "## Input Variables\n",
    "###### In this section, we simply declare variables that we will use in our projections. Feel free to create new variables here or in new cells. Change the Input Variables to see how they affect your projections. "
   ]
  },
  {
   "cell_type": "code",
   "execution_count": 8,
   "id": "e985b8a7",
   "metadata": {},
   "outputs": [],
   "source": [
    "# Variable declarations\n",
    "ohmPrice = cg.get_price(ids='olympus',vs_currencies='usd') # Get most recent price from coingecko via api\n",
    "rewardYield = round(0.47/100,5) # current staking reward yield. Curerntly the yield is 0.47% \n",
    "rebaseEpochs = 3 # Not really necessary to declare this here, but for reability it works for now\n",
    "rebaseConst = 1 + rewardYield\n",
    "currentAPY = 17407/100 # current staking %APY. Need to make this read from a source or user entry\n",
    "ohmStaked = 20 # Assume we are stating with 20 ohms"
   ]
  },
  {
   "cell_type": "code",
   "execution_count": 9,
   "id": "5aa57ce4",
   "metadata": {},
   "outputs": [],
   "source": [
    "# Target calculations variables\n",
    "desiredUSDTarget = 50000\n",
    "desiredOHMTarget = 100\n",
    "desiredDailyIncooom = 500\n",
    "desiredWeeklyIncooom = 5000"
   ]
  },
  {
   "cell_type": "markdown",
   "id": "0b51eb71",
   "metadata": {},
   "source": [
    "___"
   ]
  },
  {
   "cell_type": "markdown",
   "id": "558bfe02",
   "metadata": {},
   "source": [
    "---"
   ]
  },
  {
   "cell_type": "markdown",
   "id": "4db7cab3",
   "metadata": {},
   "source": [
    "### ROI at current reward yield\n",
    "###### Recall reward yield is declared in the input variables section above"
   ]
  },
  {
   "cell_type": "code",
   "execution_count": 16,
   "id": "132896cb",
   "metadata": {
    "scrolled": true
   },
   "outputs": [],
   "source": [
    "# Let's get some ROI Outputs starting with the daily\n",
    "dailyROI = (1+rewardYield)**3-1 # Equation to calculate your daily ROI based on reward Yield\n",
    "dailyROI_P = dailyROI*100 # daily ROI in Percentage"
   ]
  },
  {
   "cell_type": "code",
   "execution_count": 17,
   "id": "b1132a35",
   "metadata": {},
   "outputs": [],
   "source": [
    "# 5 day ROI\n",
    "fivedayROI = (1+rewardYield)**(5*3)-1 # Equation to calculate your 5 day ROI based on reward Yield\n",
    "fivedayROI_P = fivedayROI*100 # 5 day ROI in Percentage"
   ]
  },
  {
   "cell_type": "code",
   "execution_count": 18,
   "id": "85e39b79",
   "metadata": {},
   "outputs": [],
   "source": [
    "# 7 day ROI\n",
    "sevendayROI = (1+rewardYield)**(7*3)-1 # Equation to calculate your 7 day ROI based on reward Yield\n",
    "sevendayROI_P = sevendayROI*100 # 7 day ROI in Percentage"
   ]
  },
  {
   "cell_type": "code",
   "execution_count": 19,
   "id": "65e4170f",
   "metadata": {},
   "outputs": [],
   "source": [
    "# 30 day ROI\n",
    "monthlyROI = (1+rewardYield)**(30*3)-1 # Equation to calculate your 30 day ROI based on reward Yield\n",
    "monthlyROI_P = monthlyROI*100 # 30 day ROI in Percentage"
   ]
  },
  {
   "cell_type": "code",
   "execution_count": 20,
   "id": "4fa48eb9",
   "metadata": {},
   "outputs": [],
   "source": [
    "# Annual ROI\n",
    "annualROI = (1+rewardYield)**(365*3)-1 # Equation to calculate your annual ROI based on reward Yield\n",
    "annualROI_P = annualROI*100 # Equation to calculate your annual ROI based on reward Yield"
   ]
  },
  {
   "cell_type": "code",
   "execution_count": 21,
   "id": "fe254bb2",
   "metadata": {},
   "outputs": [],
   "source": [
    "# Let's create a nice looking table to view the results of our calculations. The table will contain the ROIs and the percentages\n",
    "roiData = [['Daily',dailyROI_P],['5 Day',fivedayROI_P],['7 Day',sevendayROI_P],['1 Month',monthlyROI_P],['1 Year',annualROI_P]]\n",
    "roiTablulated_df = pd. DataFrame(roiData,columns = ['Cadence','Percentage'])"
   ]
  },
  {
   "cell_type": "code",
   "execution_count": 22,
   "id": "65f017aa",
   "metadata": {},
   "outputs": [
    {
     "data": {
      "text/html": [
       "<div>\n",
       "<style scoped>\n",
       "    .dataframe tbody tr th:only-of-type {\n",
       "        vertical-align: middle;\n",
       "    }\n",
       "\n",
       "    .dataframe tbody tr th {\n",
       "        vertical-align: top;\n",
       "    }\n",
       "\n",
       "    .dataframe thead th {\n",
       "        text-align: right;\n",
       "    }\n",
       "</style>\n",
       "<table border=\"1\" class=\"dataframe\">\n",
       "  <thead>\n",
       "    <tr style=\"text-align: right;\">\n",
       "      <th></th>\n",
       "      <th>Cadence</th>\n",
       "      <th>Percentage</th>\n",
       "    </tr>\n",
       "  </thead>\n",
       "  <tbody>\n",
       "    <tr>\n",
       "      <th>0</th>\n",
       "      <td>Daily</td>\n",
       "      <td>1.416637</td>\n",
       "    </tr>\n",
       "    <tr>\n",
       "      <th>1</th>\n",
       "      <td>5 Day</td>\n",
       "      <td>7.286736</td>\n",
       "    </tr>\n",
       "    <tr>\n",
       "      <th>2</th>\n",
       "      <td>7 Day</td>\n",
       "      <td>10.347995</td>\n",
       "    </tr>\n",
       "    <tr>\n",
       "      <th>3</th>\n",
       "      <td>1 Month</td>\n",
       "      <td>52.502233</td>\n",
       "    </tr>\n",
       "    <tr>\n",
       "      <th>4</th>\n",
       "      <td>1 Year</td>\n",
       "      <td>16876.981452</td>\n",
       "    </tr>\n",
       "  </tbody>\n",
       "</table>\n",
       "</div>"
      ],
      "text/plain": [
       "   Cadence    Percentage\n",
       "0    Daily      1.416637\n",
       "1    5 Day      7.286736\n",
       "2    7 Day     10.347995\n",
       "3  1 Month     52.502233\n",
       "4   1 Year  16876.981452"
      ]
     },
     "execution_count": 22,
     "metadata": {},
     "output_type": "execute_result"
    }
   ],
   "source": [
    "roiTablulated_df"
   ]
  },
  {
   "cell_type": "code",
   "execution_count": 8,
   "id": "b4ce5250",
   "metadata": {},
   "outputs": [],
   "source": [
    "# ohm growth over time\n",
    "# STEP 1 : create a data frame to hold all required data point. Data required would be Epochs since rebase are distributed every Epoch\n",
    "ohmGrowth_df = pd.DataFrame(np.arange(3001), columns = ['Epochs']) # In this case let's consider 3000 Epochs which is 1000 days"
   ]
  },
  {
   "cell_type": "code",
   "execution_count": 9,
   "id": "e62faff1",
   "metadata": {},
   "outputs": [
    {
     "data": {
      "text/html": [
       "<div>\n",
       "<style scoped>\n",
       "    .dataframe tbody tr th:only-of-type {\n",
       "        vertical-align: middle;\n",
       "    }\n",
       "\n",
       "    .dataframe tbody tr th {\n",
       "        vertical-align: top;\n",
       "    }\n",
       "\n",
       "    .dataframe thead th {\n",
       "        text-align: right;\n",
       "    }\n",
       "</style>\n",
       "<table border=\"1\" class=\"dataframe\">\n",
       "  <thead>\n",
       "    <tr style=\"text-align: right;\">\n",
       "      <th></th>\n",
       "      <th>Epochs</th>\n",
       "    </tr>\n",
       "  </thead>\n",
       "  <tbody>\n",
       "    <tr>\n",
       "      <th>0</th>\n",
       "      <td>0</td>\n",
       "    </tr>\n",
       "    <tr>\n",
       "      <th>1</th>\n",
       "      <td>1</td>\n",
       "    </tr>\n",
       "    <tr>\n",
       "      <th>2</th>\n",
       "      <td>2</td>\n",
       "    </tr>\n",
       "    <tr>\n",
       "      <th>3</th>\n",
       "      <td>3</td>\n",
       "    </tr>\n",
       "    <tr>\n",
       "      <th>4</th>\n",
       "      <td>4</td>\n",
       "    </tr>\n",
       "  </tbody>\n",
       "</table>\n",
       "</div>"
      ],
      "text/plain": [
       "   Epochs\n",
       "0       0\n",
       "1       1\n",
       "2       2\n",
       "3       3\n",
       "4       4"
      ]
     },
     "execution_count": 9,
     "metadata": {},
     "output_type": "execute_result"
    }
   ],
   "source": [
    "ohmGrowth_df.head() # Let's peak into the first few rows and verify what we created"
   ]
  },
  {
   "cell_type": "code",
   "execution_count": 10,
   "id": "84a5586e",
   "metadata": {},
   "outputs": [],
   "source": [
    "ohmGrowth_df['Days'] = ohmGrowth_df.Epochs/3 # There are 3 Epochs per day so divide by 3 to get Days"
   ]
  },
  {
   "cell_type": "code",
   "execution_count": 11,
   "id": "006874fd",
   "metadata": {},
   "outputs": [
    {
     "data": {
      "text/html": [
       "<div>\n",
       "<style scoped>\n",
       "    .dataframe tbody tr th:only-of-type {\n",
       "        vertical-align: middle;\n",
       "    }\n",
       "\n",
       "    .dataframe tbody tr th {\n",
       "        vertical-align: top;\n",
       "    }\n",
       "\n",
       "    .dataframe thead th {\n",
       "        text-align: right;\n",
       "    }\n",
       "</style>\n",
       "<table border=\"1\" class=\"dataframe\">\n",
       "  <thead>\n",
       "    <tr style=\"text-align: right;\">\n",
       "      <th></th>\n",
       "      <th>Epochs</th>\n",
       "      <th>Days</th>\n",
       "    </tr>\n",
       "  </thead>\n",
       "  <tbody>\n",
       "    <tr>\n",
       "      <th>0</th>\n",
       "      <td>0</td>\n",
       "      <td>0.000000</td>\n",
       "    </tr>\n",
       "    <tr>\n",
       "      <th>1</th>\n",
       "      <td>1</td>\n",
       "      <td>0.333333</td>\n",
       "    </tr>\n",
       "    <tr>\n",
       "      <th>2</th>\n",
       "      <td>2</td>\n",
       "      <td>0.666667</td>\n",
       "    </tr>\n",
       "    <tr>\n",
       "      <th>3</th>\n",
       "      <td>3</td>\n",
       "      <td>1.000000</td>\n",
       "    </tr>\n",
       "    <tr>\n",
       "      <th>4</th>\n",
       "      <td>4</td>\n",
       "      <td>1.333333</td>\n",
       "    </tr>\n",
       "    <tr>\n",
       "      <th>...</th>\n",
       "      <td>...</td>\n",
       "      <td>...</td>\n",
       "    </tr>\n",
       "    <tr>\n",
       "      <th>2996</th>\n",
       "      <td>2996</td>\n",
       "      <td>998.666667</td>\n",
       "    </tr>\n",
       "    <tr>\n",
       "      <th>2997</th>\n",
       "      <td>2997</td>\n",
       "      <td>999.000000</td>\n",
       "    </tr>\n",
       "    <tr>\n",
       "      <th>2998</th>\n",
       "      <td>2998</td>\n",
       "      <td>999.333333</td>\n",
       "    </tr>\n",
       "    <tr>\n",
       "      <th>2999</th>\n",
       "      <td>2999</td>\n",
       "      <td>999.666667</td>\n",
       "    </tr>\n",
       "    <tr>\n",
       "      <th>3000</th>\n",
       "      <td>3000</td>\n",
       "      <td>1000.000000</td>\n",
       "    </tr>\n",
       "  </tbody>\n",
       "</table>\n",
       "<p>3001 rows × 2 columns</p>\n",
       "</div>"
      ],
      "text/plain": [
       "      Epochs         Days\n",
       "0          0     0.000000\n",
       "1          1     0.333333\n",
       "2          2     0.666667\n",
       "3          3     1.000000\n",
       "4          4     1.333333\n",
       "...      ...          ...\n",
       "2996    2996   998.666667\n",
       "2997    2997   999.000000\n",
       "2998    2998   999.333333\n",
       "2999    2999   999.666667\n",
       "3000    3000  1000.000000\n",
       "\n",
       "[3001 rows x 2 columns]"
      ]
     },
     "execution_count": 11,
     "metadata": {},
     "output_type": "execute_result"
    }
   ],
   "source": [
    "ohmGrowth_df # Let's see our data frame"
   ]
  },
  {
   "cell_type": "code",
   "execution_count": 12,
   "id": "fdc3d1f7",
   "metadata": {},
   "outputs": [],
   "source": [
    "# To Calculate the ohm growth over 3000 Epochs or 1000 days, we loop through the exponential ohm growth equation every epoch\\n\",\n",
    "totalOhms = [] # create an empty array that will hold the componded rewards\\n\",\n",
    "for elements in ohmGrowth_df.Epochs: # Initialize the for loop to have loops equal to number of rows or number of epochs\\n\",\n",
    "    totalOhms.append(ohmStaked) # populate the empty array with calclated values each iteration\\n\",\n",
    "    ohmStaked = ohmStaked*(1+rewardYield) # compound the total amount of ohms \\n\",\n",
    "ohmGrowth_df['Total_Ohms'] = totalOhms # Clean up and add the new array to the main data frame\\n\",\n",
    "# This can be done eaily with list comprhension, but for the sake of learning and detail, this approach is fine\""
   ]
  },
  {
   "cell_type": "code",
   "execution_count": 13,
   "id": "3e36aeb6",
   "metadata": {},
   "outputs": [],
   "source": [
    "ohmGrowth_df.Days = np.around(ohmGrowth_df.Days,decimals=1) # Python is funny so let's round up our numbers . 1 decimal place for days\",\n",
    "ohmGrowth_df.Total_Ohms = np.around(ohmGrowth_df.Total_Ohms,decimals=3)  # Python is funny so let's round up our numbers . 3 decimal place for ohms\""
   ]
  },
  {
   "cell_type": "code",
   "execution_count": 14,
   "id": "6db06e72",
   "metadata": {},
   "outputs": [
    {
     "data": {
      "text/plain": [
       "0       2.000000e+01\n",
       "1       2.009400e+01\n",
       "2       2.018800e+01\n",
       "3       2.028300e+01\n",
       "4       2.037900e+01\n",
       "            ...     \n",
       "2996    2.524011e+07\n",
       "2997    2.535873e+07\n",
       "2998    2.547792e+07\n",
       "2999    2.559767e+07\n",
       "3000    2.571798e+07\n",
       "Name: Total_Ohms, Length: 3001, dtype: float64"
      ]
     },
     "execution_count": 14,
     "metadata": {},
     "output_type": "execute_result"
    }
   ],
   "source": [
    "ohmGrowth_df.Total_Ohms # As we can see in the table, we have our starting ohm and see the progressive growth at each epoch"
   ]
  },
  {
   "cell_type": "code",
   "execution_count": 15,
   "id": "33f99cf6",
   "metadata": {},
   "outputs": [
    {
     "data": {
      "text/html": [
       "<div>\n",
       "<style scoped>\n",
       "    .dataframe tbody tr th:only-of-type {\n",
       "        vertical-align: middle;\n",
       "    }\n",
       "\n",
       "    .dataframe tbody tr th {\n",
       "        vertical-align: top;\n",
       "    }\n",
       "\n",
       "    .dataframe thead th {\n",
       "        text-align: right;\n",
       "    }\n",
       "</style>\n",
       "<table border=\"1\" class=\"dataframe\">\n",
       "  <thead>\n",
       "    <tr style=\"text-align: right;\">\n",
       "      <th></th>\n",
       "      <th>Epochs</th>\n",
       "      <th>Days</th>\n",
       "      <th>Total_Ohms</th>\n",
       "    </tr>\n",
       "  </thead>\n",
       "  <tbody>\n",
       "    <tr>\n",
       "      <th>60</th>\n",
       "      <td>60</td>\n",
       "      <td>20.0</td>\n",
       "      <td>26.498</td>\n",
       "    </tr>\n",
       "  </tbody>\n",
       "</table>\n",
       "</div>"
      ],
      "text/plain": [
       "    Epochs  Days  Total_Ohms\n",
       "60      60  20.0      26.498"
      ]
     },
     "execution_count": 15,
     "metadata": {},
     "output_type": "execute_result"
    }
   ],
   "source": [
    "ohmGrowth_df.loc[ohmGrowth_df['Days'] == 20] # Let's peak into what we have created. What is the number of ohms earned at day 20?"
   ]
  },
  {
   "cell_type": "code",
   "execution_count": 16,
   "id": "960f3951",
   "metadata": {},
   "outputs": [
    {
     "data": {
      "text/plain": [
       "<AxesSubplot:xlabel='Days'>"
      ]
     },
     "execution_count": 16,
     "metadata": {},
     "output_type": "execute_result"
    },
    {
     "data": {
      "image/png": "[encoded data removed]",
      "text/plain": [
       "<Figure size 432x288 with 1 Axes>"
      ]
     },
     "metadata": {
      "needs_background": "light"
     },
     "output_type": "display_data"
    }
   ],
   "source": [
    "ohmGrowth_df.plot(x=\"Days\", y=\"Total_Ohms\") # Plot of the exponential curve. Compounded rewards!!"
   ]
  },
  {
   "cell_type": "code",
   "execution_count": 115,
   "id": "7ece3707",
   "metadata": {},
   "outputs": [],
   "source": [
    "# Variable declarations\n",
    "ohmStakedInit = 25.7 # Assume we are stating with 20 ohms\n",
    "desiredUSDTarget = 100000\n",
    "desiredOHMTarget = 1000\n",
    "desiredDailyIncooom = 10000\n",
    "desiredWeeklyIncooom = 2000\n",
    "#================================================================================\n",
    "\n",
    "rewardYield = round(1/100,5) # current staking reward yield. Curerntly the yield is 0.47% \n",
    "rebaseEpochs = 3 # Not really necessary to declare this here, but for reability it works for now\n",
    "rebaseConst = 1 + rewardYield\n",
    "currentAPY = 17407/100 # current staking %APY. Need to make this read from a source or user entry"
   ]
  },
  {
   "cell_type": "code",
   "execution_count": 116,
   "id": "0cd3c182",
   "metadata": {},
   "outputs": [
    {
     "name": "stdout",
     "output_type": "stream",
     "text": [
      "It would take 92 days to reach your target of 100000 USD\n",
      "It would take 131 days to reach your target of 1000 OHM\n",
      "It would take 123 days from day 1 of staking to reach your desired weekly incooom\n",
      "Alternatively, you need 329993 USD to start earning your weekly incooom of 10000\n",
      "It would take 2 days from day 1 of staking to reach your desired weekly incooom\n",
      "Alternatively, you need 8718 USD to start earning your weekly incooom of 2000\n"
     ]
    },
    {
     "data": {
      "image/png": "[encoded data removed]",
      "text/plain": [
       "<Figure size 432x288 with 1 Axes>"
      ]
     },
     "metadata": {
      "needs_background": "light"
     },
     "output_type": "display_data"
    }
   ],
   "source": [
    "# Import all necessary libraries\n",
    "import math # Needed for basic math operations\\n\",\n",
    "import pandas as pd # Needed fpr dataframe creation and operations\\n\",\n",
    "import numpy as np # Needed for array manipulations\\n\",\n",
    "from itertools import islice # Needed for more complex row and coloumn slicing\\n\",\n",
    "import matplotlib.pyplot as plt # Needed for quickly ploting results\"\n",
    "#================================================================================\n",
    "\n",
    "# Pull most recent ohm price from coingecko\n",
    "from pycoingecko import CoinGeckoAPI # Pulls live data from coingecko\n",
    "cg = CoinGeckoAPI() # Pulls live price feed from coingecko\n",
    "ohmPrice = cg.get_price(ids='olympus',vs_currencies='usd') # Get most recent price from coingecko via api\n",
    "ohmPrice = ohmPrice['olympus']['usd']\n",
    "#================================================================================\n",
    "\n",
    "# Let's get some ROI Outputs starting with the daily\n",
    "dailyROI = (1+rewardYield)**3-1 # Equation to calculate your daily ROI based on reward Yield\n",
    "dailyROI_P = dailyROI*100 # daily ROI in Percentage\n",
    "#================================================================================\n",
    "\n",
    "# 5 day ROI\n",
    "fivedayROI = (1+rewardYield)**(5*3)-1 # Equation to calculate your 5 day ROI based on reward Yield\n",
    "fivedayROI_P = fivedayROI*100 # 5 day ROI in Percentage\n",
    "#================================================================================\n",
    "\n",
    "# 7 day ROI\n",
    "sevendayROI = (1+rewardYield)**(7*3)-1 # Equation to calculate your 7 day ROI based on reward Yield\n",
    "sevendayROI_P = sevendayROI*100 # 7 day ROI in Percentage\n",
    "#================================================================================\n",
    "\n",
    "# 30 day ROI\n",
    "monthlyROI = (1+rewardYield)**(30*3)-1 # Equation to calculate your 30 day ROI based on reward Yield\n",
    "monthlyROI_P = monthlyROI*100 # 30 day ROI in Percentage\n",
    "#================================================================================\n",
    "\n",
    "# Annual ROI\n",
    "annualROI = (1+rewardYield)**(365*3)-1 # Equation to calculate your annual ROI based on reward Yield\n",
    "annualROI_P = annualROI*100 # Equation to calculate your annual ROI based on reward Yield\n",
    "#================================================================================\n",
    "\n",
    "# Let's create a nice looking table to view the results of our calculations. The table will contain the ROIs and the percentages\n",
    "roiData = [['Daily',dailyROI_P],['5 Day',fivedayROI_P],['7 Day',sevendayROI_P],['1 Month',monthlyROI_P],['1 Year',annualROI_P]]\n",
    "roiTablulated_df = pd. DataFrame(roiData,columns = ['Cadence','Percentage'])\n",
    "#================================================================================\n",
    "\n",
    "# ohm growth over time\n",
    "# STEP 1 : create a data frame to hold all required data point. Data required would be Epochs since rebase are distributed every Epoch\n",
    "ohmGrowth_df = pd.DataFrame(np.arange(3001), columns = ['Epochs']) # In this case let's consider 3000 Epochs which is 1000 days\n",
    "ohmGrowth_df['Days'] = ohmGrowth_df.Epochs/3 # There are 3 Epochs per day so divide by 3 to get Days\n",
    "#================================================================================\n",
    "\n",
    "# To Calculate the ohm growth over 3000 Epochs or 1000 days, we loop through the exponential ohm growth equation every epoch\\n\",\n",
    "totalOhms = [] # create an empty array that will hold the componded rewards\\n\",\n",
    "ohmStakedGrowth = ohmStakedInit\n",
    "for elements in ohmGrowth_df.Epochs: # Initialize the for loop to have loops equal to number of rows or number of epochs\\n\",\n",
    "    totalOhms.append(ohmStakedGrowth) # populate the empty array with calclated values each iteration\\n\",\n",
    "    ohmStakedGrowth = ohmStakedGrowth*(1+rewardYield) # compound the total amount of ohms \\n\",\n",
    "ohmGrowth_df['Total_Ohms'] = totalOhms # Clean up and add the new array to the main data frame\\n\",\n",
    "# This can be done eaily with list comprhension, but for the sake of learning and detail, this approach is fine\"\n",
    "#================================================================================\n",
    "\n",
    "ohmGrowth_df.Days = np.around(ohmGrowth_df.Days,decimals=1) # Python is funny so let's round up our numbers . 1 decimal place for days\",\n",
    "ohmGrowth_df.Total_Ohms = np.around(ohmGrowth_df.Total_Ohms,decimals=3)  # Python is funny so let's round up our numbers . 3 decimal place for ohms\"\n",
    "#================================================================================\n",
    "\n",
    "# ohm growth projection at current APY and Reward Yield\n",
    "ohmGrowth_df.plot(x=\"Days\", y=\"Total_Ohms\") # Plot of the exponential curve. Compounded rewards!!\n",
    "\n",
    "#================================================================================\n",
    "\n",
    "# Days until you reach target USD by staking only\n",
    "forcastUSDTarget = round((math.log(desiredUSDTarget/(ohmStaked_Targetvar*ohmPrice),rebaseConst)/3))\n",
    "print (\"It would take %d days to reach your target of %d USD\" %(forcastUSDTarget,desiredUSDTarget))\n",
    "#================================================================================\n",
    "\n",
    "# Days until you reach target OHM by staking only\n",
    "forcastOHMTarget = round(math.log(desiredOHMTarget/(ohmStaked_Targetvar),rebaseConst)/3)\n",
    "print (\"It would take %d days to reach your target of %d OHM\" %(forcastOHMTarget,desiredOHMTarget))\n",
    "#================================================================================\n",
    "\n",
    "# Daily Incooom calculations\n",
    "# Required OHMs until you are earning your desired daily incooom\n",
    "requiredOHMDailyIncooom = round((desiredDailyIncooom/dailyROI)/ohmPrice)\n",
    "# Days until you are earning your desired daily incooom from your current initial staked OHM amount\n",
    "forcastDailyIncooom = round(math.log((requiredOHMDailyIncooom/ohmStakedInit),rebaseConst)/3)\n",
    "requiredUSDForDailyIncooom = requiredOHMDailyIncooom*ohmPrice\n",
    "print (\"It would take %d days from day 1 of staking to reach your desired weekly incooom\" %(forcastDailyIncooom))\n",
    "print (\"Alternatively, you need %d USD to start earning your weekly incooom of %d\" %(requiredUSDForDailyIncooom,desiredDailyIncooom))\n",
    "#================================================================================\n",
    "\n",
    "# Weekly Incooom calculations\n",
    "# Required OHMs until you are earning your desired weekly incooom\n",
    "requiredOHMWeeklyIncooom = round((desiredWeeklyIncooom/sevendayROI)/ohmPrice)\n",
    "# Days until you are earning your desired weekly incooom from your current initial staked OHM amount\n",
    "forcastWeeklyIncooom = round(math.log((requiredOHMWeeklyIncooom/ohmStakedInit),rebaseConst)/3)\n",
    "requiredUSDForWeeklyIncooom = requiredOHMWeeklyIncooom*ohmPrice\n",
    "print (\"It would take %d days from day 1 of staking to reach your desired weekly incooom\" %(forcastWeeklyIncooom))\n",
    "print (\"Alternatively, you need %d USD to start earning your weekly incooom of %d\" %(requiredUSDForWeeklyIncooom,desiredWeeklyIncooom))"
   ]
  },
  {
   "cell_type": "code",
   "execution_count": null,
   "id": "46538f98",
   "metadata": {},
   "outputs": [],
   "source": []
  },
  {
   "cell_type": "code",
   "execution_count": 78,
   "id": "f3de515e",
   "metadata": {},
   "outputs": [],
   "source": [
    "requiredOHMWeeklyIncooom = round((desiredWeeklyIncooom/sevendayROI)/ohmPrice)"
   ]
  },
  {
   "cell_type": "code",
   "execution_count": 80,
   "id": "d7cfb9be",
   "metadata": {},
   "outputs": [
    {
     "name": "stdout",
     "output_type": "stream",
     "text": [
      "149\n"
     ]
    }
   ],
   "source": [
    "print(requiredOHMWeeklyIncooom)"
   ]
  },
  {
   "cell_type": "code",
   "execution_count": 95,
   "id": "0f3c5e55",
   "metadata": {},
   "outputs": [
    {
     "data": {
      "text/plain": [
       "0.2323919403474468"
      ]
     },
     "execution_count": 95,
     "metadata": {},
     "output_type": "execute_result"
    }
   ],
   "source": [
    "sevendayROI"
   ]
  },
  {
   "cell_type": "code",
   "execution_count": 101,
   "id": "ea796842",
   "metadata": {},
   "outputs": [
    {
     "data": {
      "text/plain": [
       "172"
      ]
     },
     "execution_count": 101,
     "metadata": {},
     "output_type": "execute_result"
    }
   ],
   "source": [
    "requiredOHMWeeklyIncooom"
   ]
  },
  {
   "cell_type": "code",
   "execution_count": null,
   "id": "b1259a36",
   "metadata": {},
   "outputs": [],
   "source": []
  }
 ],
 "metadata": {
  "kernelspec": {
   "display_name": "Python 3",
   "language": "python",
   "name": "python3"
  },
  "language_info": {
   "codemirror_mode": {
    "name": "ipython",
    "version": 3
   },
   "file_extension": ".py",
   "mimetype": "text/x-python",
   "name": "python",
   "nbconvert_exporter": "python",
   "pygments_lexer": "ipython3",
   "version": "3.8.10"
  }
 },
 "nbformat": 4,
 "nbformat_minor": 5
}
