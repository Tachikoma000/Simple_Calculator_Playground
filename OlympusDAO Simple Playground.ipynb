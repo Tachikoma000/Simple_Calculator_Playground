{
 "cells": [
  {
   "cell_type": "markdown",
   "id": "01e30c9d",
   "metadata": {},
   "source": [
    "### Read me: This is a jupyter notebook. To run through each cell (Code block), Press Shift + Enter or click the Run button on the tool bar. If you make changes to the variable input section, please cycle through each cell to update the variables and memory... Enough chit chat! have fun!"
   ]
  },
  {
   "cell_type": "markdown",
   "id": "72a476fb",
   "metadata": {},
   "source": [
    "# Welcome to Olympus Playground\n",
    "\n",
    "This is an interactive notebook to study, play and forcast the growth of your ohm over time. This notebook is designed to work hand in hand with the awesome gitbook created by the DAO and all of Brians calcs!"
   ]
  },
  {
   "cell_type": "markdown",
   "id": "174f1457",
   "metadata": {},
   "source": [
    "\n",
    "## This calculator will provide the following projections for you: \n",
    "\n",
    "#### ROIs at current reward yield\n",
    "\n",
    "   * ROI after 1 day at current reward yield\n",
    "  ___\n",
    "   * ROI after 5 days at current reward yield\n",
    "        * OHM and USD ROI and holding value in 5 days\n",
    "  ___      \n",
    "   * ROI after 7 days at current reward yield\n",
    "        * OMH and USD ROI and holding value in 7 days\n",
    "  ___ \n",
    "   * ROI after 1 month at current reward yield\n",
    "        * OHM and USD ROI and holding value in 1 Month\n",
    "  ___ \n",
    "   * ROI after 1 year at current reward yield\n",
    "        * OHM and USD ROI and holding value in 1 Year\n",
    "  ___  \n",
    "   * Desired target USD\n",
    "       * Days until desired target USD\n",
    "  ___\n",
    "   * Desired target OHM\n",
    "       * Days until desired target OHM\n",
    "  ___\n",
    "   * OHM and USD ROI and holding on specific date. This data will be provided on an interactive chart where you can hover your mouse over any desired date and view the projection.\n",
    "\n",
    "####  Incooom\n",
    "   * Desired daily incooom \n",
    "     * Required OHM to reach goal\n",
    "     * Days until you reach required OHMs for daily incoom (Assuming growth by staking alone)\n",
    "     * Estimated date \n",
    "  ___  \n",
    "   * Desire weekly incooom \n",
    "     * Required OHM to reach goal\n",
    "     * weeks until you reach required OHMs for weeks incoom (Assuming growth by staking alone)\n",
    "     * Estimated date "
   ]
  },
  {
   "cell_type": "markdown",
   "id": "61cfb606",
   "metadata": {},
   "source": [
    "___\n",
    "___"
   ]
  },
  {
   "cell_type": "code",
   "execution_count": 14,
   "id": "aeb52a4b",
   "metadata": {},
   "outputs": [],
   "source": [
    "# Variable declarations\n",
    "ohmStakedInit = 10 # Assume we are stating with 20 ohms\n",
    "desiredUSDTarget = 50000\n",
    "desiredOHMTarget = 1000\n",
    "desiredDailyIncooom = 2500\n",
    "desiredWeeklyIncooom = 5000\n",
    "#================================================================================\n",
    "\n",
    "rewardYield = round(1/100,5) # current staking reward yield. Curerntly the yield is 0.47% \n",
    "rebaseEpochs = 3 # Not really necessary to declare this here, but for reability it works for now\n",
    "rebaseConst = 1 + rewardYield\n",
    "currentAPY = 17407/100 # current staking %APY. Need to make this read from a source or user entry"
   ]
  },
  {
   "cell_type": "markdown",
   "id": "4e46aab8",
   "metadata": {},
   "source": [
    "___\n",
    "___"
   ]
  },
  {
   "cell_type": "code",
   "execution_count": 15,
   "id": "0cd3c182",
   "metadata": {},
   "outputs": [
    {
     "name": "stdout",
     "output_type": "stream",
     "text": [
      "It would take 92 days to reach your target of 50000 USD\n",
      "It would take 154 days to reach your target of 1000 OHM\n",
      "It would take 108 days from day 1 of staking to reach your desired weekly incooom\n",
      "Alternatively, you need 82479 USD to start earning your weekly incooom of 2500\n",
      "It would take 64 days from day 1 of staking to reach your desired weekly incooom\n",
      "Alternatively, you need 21671 USD to start earning your weekly incooom of 5000\n"
     ]
    },
    {
     "data": {
      "image/png": "[encoded data removed]",
      "text/plain": [
       "<Figure size 432x288 with 1 Axes>"
      ]
     },
     "metadata": {
      "needs_background": "light"
     },
     "output_type": "display_data"
    }
   ],
   "source": [
    "# Import all necessary libraries\n",
    "import math # Needed for basic math operations\\n\",\n",
    "import pandas as pd # Needed fpr dataframe creation and operations\\n\",\n",
    "import numpy as np # Needed for array manipulations\\n\",\n",
    "from itertools import islice # Needed for more complex row and coloumn slicing\\n\",\n",
    "import matplotlib.pyplot as plt # Needed for quickly ploting results\"\n",
    "#================================================================================\n",
    "\n",
    "# Pull most recent ohm price from coingecko\n",
    "from pycoingecko import CoinGeckoAPI # Pulls live data from coingecko\n",
    "cg = CoinGeckoAPI() # Pulls live price feed from coingecko\n",
    "ohmPrice = cg.get_price(ids='olympus',vs_currencies='usd') # Get most recent price from coingecko via api\n",
    "ohmPrice = ohmPrice['olympus']['usd']\n",
    "#================================================================================\n",
    "\n",
    "# Let's get some ROI Outputs starting with the daily\n",
    "dailyROI = (1+rewardYield)**3-1 # Equation to calculate your daily ROI based on reward Yield\n",
    "dailyROI_P = dailyROI*100 # daily ROI in Percentage\n",
    "#================================================================================\n",
    "\n",
    "# 5 day ROI\n",
    "fivedayROI = (1+rewardYield)**(5*3)-1 # Equation to calculate your 5 day ROI based on reward Yield\n",
    "fivedayROI_P = fivedayROI*100 # 5 day ROI in Percentage\n",
    "#================================================================================\n",
    "\n",
    "# 7 day ROI\n",
    "sevendayROI = (1+rewardYield)**(7*3)-1 # Equation to calculate your 7 day ROI based on reward Yield\n",
    "sevendayROI_P = sevendayROI*100 # 7 day ROI in Percentage\n",
    "#================================================================================\n",
    "\n",
    "# 30 day ROI\n",
    "monthlyROI = (1+rewardYield)**(30*3)-1 # Equation to calculate your 30 day ROI based on reward Yield\n",
    "monthlyROI_P = monthlyROI*100 # 30 day ROI in Percentage\n",
    "#================================================================================\n",
    "\n",
    "# Annual ROI\n",
    "annualROI = (1+rewardYield)**(365*3)-1 # Equation to calculate your annual ROI based on reward Yield\n",
    "annualROI_P = annualROI*100 # Equation to calculate your annual ROI based on reward Yield\n",
    "#================================================================================\n",
    "\n",
    "# Let's create a nice looking table to view the results of our calculations. The table will contain the ROIs and the percentages\n",
    "roiData = [['Daily',dailyROI_P],['5 Day',fivedayROI_P],['7 Day',sevendayROI_P],['1 Month',monthlyROI_P],['1 Year',annualROI_P]]\n",
    "roiTablulated_df = pd. DataFrame(roiData,columns = ['Cadence','Percentage'])\n",
    "#================================================================================\n",
    "\n",
    "# ohm growth over time\n",
    "# STEP 1 : create a data frame to hold all required data point. Data required would be Epochs since rebase are distributed every Epoch\n",
    "ohmGrowth_df = pd.DataFrame(np.arange(3001), columns = ['Epochs']) # In this case let's consider 3000 Epochs which is 1000 days\n",
    "ohmGrowth_df['Days'] = ohmGrowth_df.Epochs/3 # There are 3 Epochs per day so divide by 3 to get Days\n",
    "#================================================================================\n",
    "\n",
    "# To Calculate the ohm growth over 3000 Epochs or 1000 days, we loop through the exponential ohm growth equation every epoch\\n\",\n",
    "totalOhms = [] # create an empty array that will hold the componded rewards\\n\",\n",
    "ohmStakedGrowth = ohmStakedInit\n",
    "for elements in ohmGrowth_df.Epochs: # Initialize the for loop to have loops equal to number of rows or number of epochs\\n\",\n",
    "    totalOhms.append(ohmStakedGrowth) # populate the empty array with calclated values each iteration\\n\",\n",
    "    ohmStakedGrowth = ohmStakedGrowth*(1+rewardYield) # compound the total amount of ohms \\n\",\n",
    "ohmGrowth_df['Total_Ohms'] = totalOhms # Clean up and add the new array to the main data frame\\n\",\n",
    "# This can be done eaily with list comprhension, but for the sake of learning and detail, this approach is fine\"\n",
    "#================================================================================\n",
    "\n",
    "ohmGrowth_df.Days = np.around(ohmGrowth_df.Days,decimals=1) # Python is funny so let's round up our numbers . 1 decimal place for days\",\n",
    "ohmGrowth_df.Total_Ohms = np.around(ohmGrowth_df.Total_Ohms,decimals=3)  # Python is funny so let's round up our numbers . 3 decimal place for ohms\"\n",
    "#================================================================================\n",
    "\n",
    "# ohm growth projection at current APY and Reward Yield\n",
    "ohmGrowth_df.plot(x=\"Days\", y=\"Total_Ohms\") # Plot of the exponential curve. Compounded rewards!!\n",
    "\n",
    "#================================================================================\n",
    "\n",
    "# Days until you reach target USD by staking only\n",
    "forcastUSDTarget = round((math.log(desiredUSDTarget/(ohmStakedInit*ohmPrice),rebaseConst)/3))\n",
    "print (\"It would take %d days to reach your target of %d USD\" %(forcastUSDTarget,desiredUSDTarget))\n",
    "#================================================================================\n",
    "\n",
    "# Days until you reach target OHM by staking only\n",
    "forcastOHMTarget = round(math.log(desiredOHMTarget/(ohmStakedInit),rebaseConst)/3)\n",
    "print (\"It would take %d days to reach your target of %d OHM\" %(forcastOHMTarget,desiredOHMTarget))\n",
    "#================================================================================\n",
    "\n",
    "# Daily Incooom calculations\n",
    "# Required OHMs until you are earning your desired daily incooom\n",
    "requiredOHMDailyIncooom = round((desiredDailyIncooom/dailyROI)/ohmPrice)\n",
    "# Days until you are earning your desired daily incooom from your current initial staked OHM amount\n",
    "forcastDailyIncooom = round(math.log((requiredOHMDailyIncooom/ohmStakedInit),rebaseConst)/3)\n",
    "requiredUSDForDailyIncooom = requiredOHMDailyIncooom*ohmPrice\n",
    "print (\"It would take %d days from day 1 of staking to reach your desired weekly incooom\" %(forcastDailyIncooom))\n",
    "print (\"Alternatively, you need %d USD to start earning your weekly incooom of %d\" %(requiredUSDForDailyIncooom,desiredDailyIncooom))\n",
    "#================================================================================\n",
    "\n",
    "# Weekly Incooom calculations\n",
    "# Required OHMs until you are earning your desired weekly incooom\n",
    "requiredOHMWeeklyIncooom = round((desiredWeeklyIncooom/sevendayROI)/ohmPrice)\n",
    "# Days until you are earning your desired weekly incooom from your current initial staked OHM amount\n",
    "forcastWeeklyIncooom = round(math.log((requiredOHMWeeklyIncooom/ohmStakedInit),rebaseConst)/3)\n",
    "requiredUSDForWeeklyIncooom = requiredOHMWeeklyIncooom*ohmPrice\n",
    "print (\"It would take %d days from day 1 of staking to reach your desired weekly incooom\" %(forcastWeeklyIncooom))\n",
    "print (\"Alternatively, you need %d USD to start earning your weekly incooom of %d\" %(requiredUSDForWeeklyIncooom,desiredWeeklyIncooom))"
   ]
  },
  {
   "cell_type": "code",
   "execution_count": 16,
   "id": "5726d76d",
   "metadata": {},
   "outputs": [],
   "source": [
    "# This is just a prototype to visualize the idea. The finished product will have a nice interactive gui\n",
    "# additionally, the final version will have outputs in a nice tabulated format. The chart will also be interactive"
   ]
  },
  {
   "cell_type": "code",
   "execution_count": null,
   "id": "78a3db78",
   "metadata": {},
   "outputs": [],
   "source": []
  }
 ],
 "metadata": {
  "kernelspec": {
   "display_name": "Python 3",
   "language": "python",
   "name": "python3"
  },
  "language_info": {
   "codemirror_mode": {
    "name": "ipython",
    "version": 3
   },
   "file_extension": ".py",
   "mimetype": "text/x-python",
   "name": "python",
   "nbconvert_exporter": "python",
   "pygments_lexer": "ipython3",
   "version": "3.8.10"
  }
 },
 "nbformat": 4,
 "nbformat_minor": 5
}
