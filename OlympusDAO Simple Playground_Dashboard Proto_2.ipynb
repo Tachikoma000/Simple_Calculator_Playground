{
 "cells": [
  {
   "cell_type": "code",
   "execution_count": 1,
   "id": "ac13a71e",
   "metadata": {},
   "outputs": [],
   "source": [
    "# Import all necessary libraries\n",
    "import math # Needed for basic math operations\\n\",\n",
    "import pandas as pd # Needed fpr dataframe creation and operations\\n\",\n",
    "import numpy as np # Needed for array manipulations\\n\",\n",
    "from itertools import islice # Needed for more complex row and coloumn slicing\\n\",\n",
    "import matplotlib.pyplot as plt # Needed for quickly ploting results\"\n",
    "import plotly.express as px\n",
    "import plotly.graph_objects as go"
   ]
  },
  {
   "cell_type": "code",
   "execution_count": 2,
   "id": "1d616464",
   "metadata": {},
   "outputs": [],
   "source": [
    "import plotly.express as px\n",
    "from jupyter_dash import JupyterDash\n",
    "import dash_core_components as dcc\n",
    "import dash_html_components as html\n",
    "from dash.dependencies import Input, Output"
   ]
  },
  {
   "cell_type": "code",
   "execution_count": 3,
   "id": "cbaf14ec",
   "metadata": {},
   "outputs": [],
   "source": [
    "# Variable declarations\n",
    "ohmStakedInit = 10 # Assume we are stating with 20 ohms\n",
    "desiredUSDTarget = 50000 # This is the desired USD target you want\n",
    "desiredOHMTarget = 1000 # This is the desired OHM target you want\n",
    "desiredDailyIncooom = 2500 # This is your desired daily incooom\n",
    "desiredWeeklyIncooom = 5000 # This is your desired weekly incooom\n",
    "#================================================================================\n",
    "\n",
    "rewardYield = round(1/100,5) # current staking reward yield. Curerntly the yield is 0.47% \n",
    "rebaseEpochs = 3 # Not really necessary to declare this here, but for reability it works for now\n",
    "rebaseConst = 1 + rewardYield\n",
    "currentAPY = 17407/100 # current staking %APY. Need to make this read from a source or user entry"
   ]
  },
  {
   "cell_type": "code",
   "execution_count": 4,
   "id": "57034d2b",
   "metadata": {},
   "outputs": [],
   "source": [
    "# Pull most recent ohm price from coingecko\n",
    "from pycoingecko import CoinGeckoAPI # Pulls live data from coingecko\n",
    "cg = CoinGeckoAPI() # Pulls live price feed from coingecko\n",
    "ohmPrice = cg.get_price(ids='olympus',vs_currencies='usd') # Get most recent price from coingecko via api\n",
    "ohmPrice = ohmPrice['olympus']['usd']"
   ]
  },
  {
   "cell_type": "code",
   "execution_count": 5,
   "id": "6e87b20f",
   "metadata": {},
   "outputs": [],
   "source": [
    " # STEP 1 : create a data frame to hold all required data point. Data required would be Epochs since rebase are distributed every Epoch\n",
    "ohmGrowth_df = pd.DataFrame(np.arange(3001), columns = ['Epochs']) # In this case let's consider 3000 Epochs which is 1000 days\n",
    "ohmGrowth_df['Days'] = ohmGrowth_df.Epochs/3 # There are 3 Epochs per day so divide by 3 to get Days\n",
    "#================================================================================"
   ]
  },
  {
   "cell_type": "code",
   "execution_count": 106,
   "id": "1a9d50a7",
   "metadata": {},
   "outputs": [],
   "source": [
    "external_stylesheets = ['https://codepen.io/chriddyp/pen/bWLwgP.css']\n",
    "app = JupyterDash(__name__,external_stylesheets=external_stylesheets)\n",
    "app.layout = html.Div([\n",
    "    html.H1(\"Outputs\"),\n",
    "    html.Label('Initial Ohms'),\n",
    "    dcc.Input(\n",
    "        id='initialOhms',\n",
    "        type='number',\n",
    "        placeholder='1.0',\n",
    "        value=1,\n",
    "        min=1, \n",
    "        max=10000, \n",
    "        step=1\n",
    "        ),\n",
    "    dcc.Graph(id='ohmGrowthChart'),\n",
    "    html.Label('Current Reward Yield'),\n",
    "    dcc.Input(\n",
    "        id='rewardYield',\n",
    "        type='number',\n",
    "        placeholder='0.3058',\n",
    "        value=0.3058,\n",
    "        min=0.01, \n",
    "        max=0.4583, \n",
    "        step=0.01\n",
    "        ),\n",
    "    html.Table([\n",
    "        html.Tr([html.Td(['Daily ROI: ']), html.Td(id='dailyROI_P')]),\n",
    "        html.Tr([html.Td(['5 Day ROI: ']), html.Td(id='fivedayROI_P')]),\n",
    "        html.Tr([html.Td(['7 Day ROI: ']), html.Td(id='sevendayROI_P')]),\n",
    "        html.Tr([html.Td(['Monthly ROI: ']), html.Td(id='monthlyROI_P')]),\n",
    "        html.Tr([html.Td(['Annual ROI: ']), html.Td(id='annualROI_P')]),\n",
    "    ]), \n",
    "])"
   ]
  },
  {
   "cell_type": "code",
   "execution_count": 107,
   "id": "5fbcfe00",
   "metadata": {},
   "outputs": [],
   "source": [
    "# Ohm growth section: This section calculates and plots the projected ohm growth over time (1000 days)"
   ]
  },
  {
   "cell_type": "code",
   "execution_count": 108,
   "id": "2cf98ac1",
   "metadata": {},
   "outputs": [],
   "source": [
    "# Define callback to update the ohmGrowthChart. As user changes the initial staked ohm, the chart updates dynamically \n",
    "@app.callback(\n",
    "    Output('ohmGrowthChart', 'figure'),\n",
    "    [Input(\"initialOhms\", \"value\")],\n",
    ")\n",
    "#================================================================================\n",
    "\n",
    "# This function calculates and generates the ohm growth over time using the initial staked ohm as a starting point\n",
    "def update_figure(initialOhms):\n",
    "    \n",
    "# To Calculate the ohm growth over 3000 Epochs or 1000 days, we loop through the exponential ohm growth equation every epoch\n",
    "\n",
    "    totalOhms = [] # create an empty array that will hold the componded rewards\n",
    "    \n",
    "    ohmStakedGrowth = initialOhms # Initial staked ohms used to project growth over time\n",
    "    for elements in ohmGrowth_df.Epochs: # Initialize the for loop to have loops equal to number of rows or number of epochs\n",
    "        totalOhms.append(ohmStakedGrowth) # populate the empty array with calclated values each iteration\n",
    "        ohmStakedGrowth = ohmStakedGrowth*(1+rewardYield) # compound the total amount of ohms \n",
    "    ohmGrowth_df['Total_Ohms'] = totalOhms # Clean up and add the new array to the main data frame\n",
    "    ohmGrowth_df.Days = np.around(ohmGrowth_df.Days,decimals=1) # Python is funny so let's round up our numbers . 1 decimal place for days\",\n",
    "    ohmGrowth_df.Total_Ohms = np.around(ohmGrowth_df.Total_Ohms,decimals=3)  # Python is funny so let's round up our numbers . 3 decimal place for ohms\"\n",
    "\n",
    "#================================================================================  \n",
    "    \n",
    "    return px.line(\n",
    "        ohmGrowth_df, x=\"Days\", y=\"Total_Ohms\",\n",
    "        render_mode=\"webgl\", title=\"Accumulated Ohms\"\n",
    "    )"
   ]
  },
  {
   "cell_type": "code",
   "execution_count": 109,
   "id": "8471db06",
   "metadata": {},
   "outputs": [],
   "source": [
    "# ROI Section: This section "
   ]
  },
  {
   "cell_type": "code",
   "execution_count": 110,
   "id": "1aab9f8b",
   "metadata": {},
   "outputs": [],
   "source": [
    "\n",
    "# Define callback to update the ohmGrowthChart. As user changes the initial staked ohm, the chart updates dynamically \n",
    "@app.callback(\n",
    "    Output('dailyROI_P', 'children'),\n",
    "    Output('fivedayROI_P', 'children'),\n",
    "    Output('sevendayROI_P', 'children'),\n",
    "    Output('monthlyROI_P', 'children'),\n",
    "    Output('annualROI_P', 'children'),\n",
    "    Input(\"rewardYield\", \"value\")\n",
    ")\n",
    "#================================================================================\n",
    "def update_rewardYield(rewardYield):\n",
    "    rewardYield = round(rewardYield/100,5)\n",
    "    # Let's get some ROI Outputs starting with the daily\n",
    "    dailyROI = (1+rewardYield)**3-1 # Equation to calculate your daily ROI based on reward Yield\n",
    "    dailyROI_P = round(dailyROI*100,2) # daily ROI in Percentage\n",
    "    #================================================================================\n",
    "\n",
    "    # 5 day ROI\n",
    "    fivedayROI = (1+rewardYield)**(5*3)-1 # Equation to calculate your 5 day ROI based on reward Yield\n",
    "    fivedayROI_P = round(fivedayROI*100,2) # 5 day ROI in Percentage\n",
    "    #================================================================================\n",
    "\n",
    "    # 7 day ROI\n",
    "    sevendayROI = (1+rewardYield)**(7*3)-1 # Equation to calculate your 7 day ROI based on reward Yield\n",
    "    sevendayROI_P = round(sevendayROI*100,2) # 7 day ROI in Percentage\n",
    "    #================================================================================\n",
    "\n",
    "    # 30 day ROI\n",
    "    monthlyROI = (1+rewardYield)**(30*3)-1 # Equation to calculate your 30 day ROI based on reward Yield\n",
    "    monthlyROI_P = round(monthlyROI*100,2) # 30 day ROI in Percentage\n",
    "    #================================================================================\n",
    "\n",
    "    # Annual ROI\n",
    "    annualROI = (1+rewardYield)**(365*3)-1 # Equation to calculate your annual ROI based on reward Yield\n",
    "    annualROI_P = round(annualROI*100,2) # Equation to calculate your annual ROI based on reward Yield\n",
    "    #================================================================================\n",
    "\n",
    "    # Let's create a nice looking table to view the results of our calculations. The table will contain the ROIs and the percentages\n",
    "    roiData = [['Daily',dailyROI_P],['5 Day',fivedayROI_P],['7 Day',sevendayROI_P],['1 Month',monthlyROI_P],['1 Year',annualROI_P]]\n",
    "    roiTablulated_df = pd. DataFrame(roiData,columns = ['Cadence','Percentage'])\n",
    "    #================================================================================\n",
    "    \n",
    "    return dailyROI_P,fivedayROI_P,sevendayROI_P,monthlyROI_P,annualROI_P  \n",
    "  "
   ]
  },
  {
   "cell_type": "code",
   "execution_count": 111,
   "id": "697e016a",
   "metadata": {},
   "outputs": [
    {
     "data": {
      "text/html": [
       "\n",
       "        <iframe\n",
       "            width=\"100%\"\n",
       "            height=\"650\"\n",
       "            src=\"http://127.0.0.1:8050/\"\n",
       "            frameborder=\"0\"\n",
       "            allowfullscreen\n",
       "        ></iframe>\n",
       "        "
      ],
      "text/plain": [
       "<IPython.lib.display.IFrame at 0x1de1c857070>"
      ]
     },
     "metadata": {},
     "output_type": "display_data"
    }
   ],
   "source": [
    "# Run app and display result inline in the notebook\n",
    "app.run_server(mode='inline')"
   ]
  },
  {
   "cell_type": "code",
   "execution_count": null,
   "id": "a2b4206b",
   "metadata": {},
   "outputs": [],
   "source": []
  }
 ],
 "metadata": {
  "kernelspec": {
   "display_name": "Python 3",
   "language": "python",
   "name": "python3"
  },
  "language_info": {
   "codemirror_mode": {
    "name": "ipython",
    "version": 3
   },
   "file_extension": ".py",
   "mimetype": "text/x-python",
   "name": "python",
   "nbconvert_exporter": "python",
   "pygments_lexer": "ipython3",
   "version": "3.8.10"
  }
 },
 "nbformat": 4,
 "nbformat_minor": 5
}
