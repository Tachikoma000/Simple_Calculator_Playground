{
 "cells": [
  {
   "cell_type": "code",
   "execution_count": 1,
   "id": "27a61840",
   "metadata": {},
   "outputs": [],
   "source": [
    "# Import all necessary libraries\n",
    "import math # Needed for basic math operations\\n\",\n",
    "import pandas as pd # Needed fpr dataframe creation and operations\\n\",\n",
    "import numpy as np # Needed for array manipulations\\n\",\n",
    "from itertools import islice # Needed for more complex row and coloumn slicing\\n\",\n",
    "import matplotlib.pyplot as plt # Needed for quickly ploting results\"\n",
    "import plotly.express as px\n",
    "import plotly.graph_objects as go"
   ]
  },
  {
   "cell_type": "code",
   "execution_count": 2,
   "id": "20766f4d",
   "metadata": {},
   "outputs": [],
   "source": [
    "import plotly.express as px\n",
    "from jupyter_dash import JupyterDash\n",
    "import dash_core_components as dcc\n",
    "import dash_html_components as html\n",
    "from dash.dependencies import Input, Output"
   ]
  },
  {
   "cell_type": "code",
   "execution_count": 3,
   "id": "42ed75d5",
   "metadata": {},
   "outputs": [],
   "source": [
    "# Variable declarations\n",
    "ohmStakedInit = 10 # Assume we are stating with 20 ohms\n",
    "desiredUSDTarget = 50000 # This is the desired USD target you want\n",
    "desiredOHMTarget = 1000 # This is the desired OHM target you want\n",
    "desiredDailyIncooom = 2500 # This is your desired daily incooom\n",
    "desiredWeeklyIncooom = 5000 # This is your desired weekly incooom\n",
    "#================================================================================\n",
    "\n",
    "rewardYield = round(1/100,5) # current staking reward yield. Curerntly the yield is 0.47% \n",
    "rebaseEpochs = 3 # Not really necessary to declare this here, but for reability it works for now\n",
    "rebaseConst = 1 + rewardYield\n",
    "currentAPY = 17407/100 # current staking %APY. Need to make this read from a source or user entry"
   ]
  },
  {
   "cell_type": "code",
   "execution_count": 4,
   "id": "a3310000",
   "metadata": {},
   "outputs": [],
   "source": [
    "# Pull most recent ohm price from coingecko\n",
    "from pycoingecko import CoinGeckoAPI # Pulls live data from coingecko\n",
    "cg = CoinGeckoAPI() # Pulls live price feed from coingecko\n",
    "ohmPrice = cg.get_price(ids='olympus',vs_currencies='usd') # Get most recent price from coingecko via api\n",
    "ohmPrice = ohmPrice['olympus']['usd']"
   ]
  },
  {
   "cell_type": "code",
   "execution_count": 5,
   "id": "25a5c5da",
   "metadata": {},
   "outputs": [],
   "source": [
    "# Let's get some ROI Outputs starting with the daily\n",
    "dailyROI = (1+rewardYield)**3-1 # Equation to calculate your daily ROI based on reward Yield\n",
    "dailyROI_P = dailyROI*100 # daily ROI in Percentage\n",
    "#================================================================================\n",
    "\n",
    "# 5 day ROI\n",
    "fivedayROI = (1+rewardYield)**(5*3)-1 # Equation to calculate your 5 day ROI based on reward Yield\n",
    "fivedayROI_P = fivedayROI*100 # 5 day ROI in Percentage\n",
    "#================================================================================\n",
    "\n",
    "# 7 day ROI\n",
    "sevendayROI = (1+rewardYield)**(7*3)-1 # Equation to calculate your 7 day ROI based on reward Yield\n",
    "sevendayROI_P = sevendayROI*100 # 7 day ROI in Percentage\n",
    "#================================================================================\n",
    "\n",
    "# 30 day ROI\n",
    "monthlyROI = (1+rewardYield)**(30*3)-1 # Equation to calculate your 30 day ROI based on reward Yield\n",
    "monthlyROI_P = monthlyROI*100 # 30 day ROI in Percentage\n",
    "#================================================================================\n",
    "\n",
    "# Annual ROI\n",
    "annualROI = (1+rewardYield)**(365*3)-1 # Equation to calculate your annual ROI based on reward Yield\n",
    "annualROI_P = annualROI*100 # Equation to calculate your annual ROI based on reward Yield\n",
    "#================================================================================\n",
    "\n",
    "# Let's create a nice looking table to view the results of our calculations. The table will contain the ROIs and the percentages\n",
    "roiData = [['Daily',dailyROI_P],['5 Day',fivedayROI_P],['7 Day',sevendayROI_P],['1 Month',monthlyROI_P],['1 Year',annualROI_P]]\n",
    "roiTablulated_df = pd. DataFrame(roiData,columns = ['Cadence','Percentage'])"
   ]
  },
  {
   "cell_type": "code",
   "execution_count": 6,
   "id": "3a2f0a5f",
   "metadata": {},
   "outputs": [],
   "source": [
    "# ohm growth over time\n",
    "# STEP 1 : create a data frame to hold all required data point. Data required would be Epochs since rebase are distributed every Epoch\n",
    "ohmGrowth_df = pd.DataFrame(np.arange(3001), columns = ['Epochs']) # In this case let's consider 3000 Epochs which is 1000 days\n",
    "ohmGrowth_df['Days'] = ohmGrowth_df.Epochs/3 # There are 3 Epochs per day so divide by 3 to get Days\n",
    "#================================================================================\n",
    "\n",
    "# To Calculate the ohm growth over 3000 Epochs or 1000 days, we loop through the exponential ohm growth equation every epoch\\n\",\n",
    "totalOhms = [] # create an empty array that will hold the componded rewards\\n\",\n",
    "ohmStakedGrowth = ohmStakedInit\n",
    "for elements in ohmGrowth_df.Epochs: # Initialize the for loop to have loops equal to number of rows or number of epochs\\n\",\n",
    "    totalOhms.append(ohmStakedGrowth) # populate the empty array with calclated values each iteration\\n\",\n",
    "    ohmStakedGrowth = ohmStakedGrowth*(1+rewardYield) # compound the total amount of ohms \\n\",\n",
    "ohmGrowth_df['Total_Ohms'] = totalOhms # Clean up and add the new array to the main data frame\\n\",\n",
    "# This can be done eaily with list comprhension, but for the sake of learning and detail, this approach is fine\"\n",
    "#================================================================================\n",
    "\n",
    "ohmGrowth_df.Days = np.around(ohmGrowth_df.Days,decimals=1) # Python is funny so let's round up our numbers . 1 decimal place for days\",\n",
    "ohmGrowth_df.Total_Ohms = np.around(ohmGrowth_df.Total_Ohms,decimals=3)  # Python is funny so let's round up our numbers . 3 decimal place for ohms\""
   ]
  },
  {
   "cell_type": "code",
   "execution_count": 7,
   "id": "89484078",
   "metadata": {},
   "outputs": [
    {
     "name": "stdout",
     "output_type": "stream",
     "text": [
      "It would take 89 days to reach your target of 50000 USD\n",
      "It would take 154 days to reach your target of 1000 OHM\n",
      "It would take 106 days from day 1 of staking to reach your desired weekly incooom\n",
      "Alternatively, you need 82514 USD to start earning your weekly incooom of 2500\n"
     ]
    }
   ],
   "source": [
    "# Days until you reach target USD by staking only\n",
    "forcastUSDTarget = round((math.log(desiredUSDTarget/(ohmStakedInit*ohmPrice),rebaseConst)/3))\n",
    "print (\"It would take %d days to reach your target of %d USD\" %(forcastUSDTarget,desiredUSDTarget))\n",
    "#================================================================================\n",
    "\n",
    "# Days until you reach target OHM by staking only\n",
    "forcastOHMTarget = round(math.log(desiredOHMTarget/(ohmStakedInit),rebaseConst)/3)\n",
    "print (\"It would take %d days to reach your target of %d OHM\" %(forcastOHMTarget,desiredOHMTarget))\n",
    "#================================================================================\n",
    "\n",
    "# Daily Incooom calculations\n",
    "# Required OHMs until you are earning your desired daily incooom\n",
    "requiredOHMDailyIncooom = round((desiredDailyIncooom/dailyROI)/ohmPrice)\n",
    "# Days until you are earning your desired daily incooom from your current initial staked OHM amount\n",
    "forcastDailyIncooom = round(math.log((requiredOHMDailyIncooom/ohmStakedInit),rebaseConst)/3)\n",
    "requiredUSDForDailyIncooom = requiredOHMDailyIncooom*ohmPrice\n",
    "print (\"It would take %d days from day 1 of staking to reach your desired weekly incooom\" %(forcastDailyIncooom))\n",
    "print (\"Alternatively, you need %d USD to start earning your weekly incooom of %d\" %(requiredUSDForDailyIncooom,desiredDailyIncooom))\n",
    "#================================================================================\n",
    "\n",
    "# Weekly Incooom calculations\n",
    "# Required OHMs until you are earning your desired weekly incooom\n",
    "requiredOHMWeeklyIncooom = round((desiredWeeklyIncooom/sevendayROI)/ohmPrice)\n",
    "# Days until you are earning your desired weekly incooom from your current initial staked OHM amount\n",
    "forcastWeeklyIncooom = round(math.log((requiredOHMWeeklyIncooom/ohmStakedInit),rebaseConst)/3)\n",
    "requiredUSDForWeeklyIncooom = requiredOHMWeeklyIncooom*ohmPrice"
   ]
  },
  {
   "cell_type": "code",
   "execution_count": 15,
   "id": "1b667878",
   "metadata": {},
   "outputs": [],
   "source": [
    "app = JupyterDash(__name__)\n",
    "app.layout = html.Div([\n",
    "    html.H1(\"Olympus Playground Demo\"),\n",
    "    dcc.Graph(id='ohmGrowthGraph'),\n",
    "    html.Label([\n",
    "        \"Compounded_Ohm_Growth\",\n",
    "        dcc.Input(\n",
    "            id='Initial Ohms', type='number', placeholder='1.0',\n",
    "            min=0.01, max=10000, step=0.01\n",
    "            )\n",
    "    ]),\n",
    "])\n",
    "# Define callback to update graph"
   ]
  },
  {
   "cell_type": "code",
   "execution_count": 16,
   "id": "169c1e08",
   "metadata": {},
   "outputs": [],
   "source": [
    "# Define callback to update graph\n",
    "@app.callback(\n",
    "    Output('ohmGrowthGraph', 'figure'),\n",
    "    [Input(\"Initial Ohms\", \"value\")]\n",
    ")\n",
    "def update_figure(Compounded_Ohm_Growth):\n",
    "    return px.scatter(\n",
    "        ohmGrowth_df, x=\"Days\", y=\"Total_Ohms\",\n",
    "        render_mode=\"webgl\", title=\"Compounded Ohm Growth vs Time\"\n",
    "    )\n",
    "# Run app and display result inline in the notebook"
   ]
  },
  {
   "cell_type": "code",
   "execution_count": 17,
   "id": "4602ecbb",
   "metadata": {},
   "outputs": [
    {
     "data": {
      "text/html": [
       "\n",
       "        <iframe\n",
       "            width=\"100%\"\n",
       "            height=\"650\"\n",
       "            src=\"http://127.0.0.1:8050/\"\n",
       "            frameborder=\"0\"\n",
       "            allowfullscreen\n",
       "        ></iframe>\n",
       "        "
      ],
      "text/plain": [
       "<IPython.lib.display.IFrame at 0x1cc2b202670>"
      ]
     },
     "metadata": {},
     "output_type": "display_data"
    }
   ],
   "source": [
    "app.run_server(mode='inline')"
   ]
  },
  {
   "cell_type": "code",
   "execution_count": null,
   "id": "8146824d",
   "metadata": {},
   "outputs": [],
   "source": []
  },
  {
   "cell_type": "code",
   "execution_count": null,
   "id": "770b7306",
   "metadata": {},
   "outputs": [],
   "source": []
  },
  {
   "cell_type": "code",
   "execution_count": null,
   "id": "9f644ac8",
   "metadata": {},
   "outputs": [],
   "source": []
  },
  {
   "cell_type": "code",
   "execution_count": null,
   "id": "1bb6cdd6",
   "metadata": {},
   "outputs": [],
   "source": []
  },
  {
   "cell_type": "code",
   "execution_count": null,
   "id": "cdf4d519",
   "metadata": {},
   "outputs": [],
   "source": []
  }
 ],
 "metadata": {
  "kernelspec": {
   "display_name": "Python 3",
   "language": "python",
   "name": "python3"
  },
  "language_info": {
   "codemirror_mode": {
    "name": "ipython",
    "version": 3
   },
   "file_extension": ".py",
   "mimetype": "text/x-python",
   "name": "python",
   "nbconvert_exporter": "python",
   "pygments_lexer": "ipython3",
   "version": "3.8.10"
  }
 },
 "nbformat": 4,
 "nbformat_minor": 5
}
