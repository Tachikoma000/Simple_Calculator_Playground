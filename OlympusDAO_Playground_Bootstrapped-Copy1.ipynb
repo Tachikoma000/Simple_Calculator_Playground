{
 "cells": [
  {
   "cell_type": "code",
   "execution_count": 10,
   "id": "c78d57c7",
   "metadata": {},
   "outputs": [],
   "source": [
    "from jupyter_dash import JupyterDash"
   ]
  },
  {
   "cell_type": "code",
   "execution_count": 431,
   "id": "84aa733c",
   "metadata": {},
   "outputs": [],
   "source": [
    "import plotly.express as px\n",
    "import dash_core_components as dcc\n",
    "import dash_html_components as html\n",
    "import dash_bootstrap_components as dbc\n",
    "from dash.dependencies import Input, Output, State, ClientsideFunction\n",
    "import dash_table\n",
    "import dash_table.FormatTemplate as FormatTemplate"
   ]
  },
  {
   "cell_type": "code",
   "execution_count": 432,
   "id": "ee170861",
   "metadata": {},
   "outputs": [],
   "source": [
    "# Import all necessary libraries\n",
    "import math # Needed for basic math operations\\n\",\n",
    "import pandas as pd # Needed fpr dataframe creation and operations\\n\",\n",
    "import numpy as np # Needed for array manipulations\\n\",\n",
    "from itertools import islice # Needed for more complex row and coloumn slicing\\n\",\n",
    "import matplotlib.pyplot as plt # Needed for quickly ploting results\"\n",
    "import pathlib\n",
    "import plotly.express as px\n",
    "import plotly.graph_objects as go"
   ]
  },
  {
   "cell_type": "code",
   "execution_count": 433,
   "id": "8bcbd617",
   "metadata": {},
   "outputs": [],
   "source": [
    "FONT_AWESOME = \"https://use.fontawesome.com/releases/v5.10.2/css/all.css\""
   ]
  },
  {
   "cell_type": "code",
   "execution_count": 435,
   "id": "5e39c971",
   "metadata": {},
   "outputs": [],
   "source": [
    "JupyterDash.infer_jupyter_proxy_config()"
   ]
  },
  {
   "cell_type": "code",
   "execution_count": 436,
   "id": "6e2599df",
   "metadata": {},
   "outputs": [],
   "source": [
    "external_stylesheets = [dbc.themes.SPACELAB, FONT_AWESOME]\n",
    "app = JupyterDash(__name__,external_stylesheets=external_stylesheets)\n",
    "server = app.server\n",
    "#app.layout = html.Div([\n",
    "    \n",
    "#    html.H1(\"Olympus Playground\"),\n",
    "#    html.Label('Initial Ohms'),\n",
    "#    dcc.Input(id='initialOhms',type='number',placeholder='1.0',value=1,min=0.01, max=10000, step=0.01),\n",
    "#    html.Label('Current reward yield'),\n",
    "#    dcc.Input(id='rewardYield',type='number',placeholder='0.30',value=0.3058,min=0.01, max=0.4583, step=0.01),\n",
    "    \n",
    "#    dcc.Graph(id='ohmGrowthChart'),\n",
    "    \n",
    "#    html.Label('Incooom based on current Reward Yield'),\n",
    "#    dcc.Input(id='desiredUSDTarget',type='number',placeholder='50000',value=50000,min=1, max=5000000, step=1),\n",
    "#    dcc.Input(id='desiredOHMTarget',type='number',placeholder='1000',value=1000,min=0.01, max=100000, step=0.01),\n",
    "#    dcc.Input(id='desiredDailyIncooom',type='number',placeholder='2500',value=2500,min=10, max=100000, step=0.01),\n",
    "#    dcc.Input(id='desiredWeeklyIncooom',type='number',placeholder='5000',value=5000,min=1000, max=100000, step=0.01),\n",
    "    \n",
    "#    html.Label('ROI breakdown'),\n",
    "#    html.Table([\n",
    "#        html.Tr([html.Td(['Daily ROI: ']), html.Td(id='dailyROI_P')]),\n",
    "#        html.Tr([html.Td(['5 Day ROI: ']), html.Td(id='fivedayROI_P')]),\n",
    "#        html.Tr([html.Td(['7 Day ROI: ']), html.Td(id='sevendayROI_P')]),\n",
    "#        html.Tr([html.Td(['Monthly ROI: ']), html.Td(id='monthlyROI_P')]),\n",
    "#        html.Tr([html.Td(['Annual ROI: ']), html.Td(id='annualROI_P')]),\n",
    "#    ]), \n",
    "    \n",
    "#    html.Label('Incooom forcasts'),\n",
    "#    html.Table([\n",
    "#        html.Tr([html.Td(['Number of days until you reach target USD from staking only: ']), html.Td(id='forcastUSDTarget')]),\n",
    "#        html.Tr([html.Td(['Number of days until you reach target OHM from staking only:']), html.Td(id='forcastOHMTarget')]),\n",
    "#        html.Tr([html.Td(['Number of days until you reach your target daily incooom:']), html.Td(id='forcastDailyIncooom')]),\n",
    "#        html.Tr([html.Td(['Required OHMs to achieve your target daily incooom:']), html.Td(id='requiredOHMDailyIncooom')]),\n",
    "#        html.Tr([html.Td(['Number of days until you reach your target weekly incooom:']), html.Td(id='forcastWeeklyIncooom')]),\n",
    "#        html.Tr([html.Td(['Required OHMs to achieve your target weekly incooom:']), html.Td(id='requiredOHMWeeklyIncooom')]),\n",
    "#    ]),\n",
    "#])\n",
    "\n",
    "# App Layout: Bootstrap\n",
    "#====================================================================\n",
    " \n",
    "#====================================================================\n",
    "app.layout = dbc.Container([\n",
    "    # Title row\n",
    "    dbc.Row([\n",
    "        dbc.Col(html.H1(\"OlympusDAO Playground\",\n",
    "                        className = 'text-center text-primary, mb-4'),\n",
    "                width = 12 )\n",
    "    ]),\n",
    "#====================================================================\n",
    "    \n",
    "#====================================================================\n",
    "# Instruction and ohm growth chart row\n",
    "    dbc.Row([\n",
    "        # Welcome message and Instructions column\n",
    "        dbc.Col([ \n",
    "            dbc.Card(\n",
    "                dbc.CardBody([\n",
    "                        dcc.Markdown(''' \n",
    "                        #### Welcome to Olympus playground\n",
    "                        Playground is a simulator for staking, bonding and incooom strategies.\n",
    "                        \n",
    "                        Use this simulator to:\n",
    "                        - Forcast ROI ar current and future reward yield percent\n",
    "                        - OHM growth over time\n",
    "                        - OHM and USD value over time\n",
    "                        \n",
    "                        We love the incooom, use this simulator to strategize:\n",
    "                        - Required staked OHM to reach desired daily incooom\n",
    "                        - Count down until you are earning desired daily incooom\n",
    "                        - Required staked OHM to reach desired weekly incooom\n",
    "                        - Count down until you are earning desired weekly incooom\n",
    "                        '''),\n",
    "                        \n",
    "                    ]))], width = 3),\n",
    "        \n",
    "        # ohm growth output column    \n",
    "        dbc.Col([\n",
    "            dcc.Graph(id = 'ohmGrowthChart', figure = {'layout':{'title': 'Ohm Growth Chart vs Days'}},)\n",
    "            \n",
    "        ])\n",
    "    ], align = 'center'),\n",
    "#====================================================================\n",
    "\n",
    "#====================================================================\n",
    "# Input form, ROI and incooom row \n",
    "    dbc.Row([\n",
    "        # Input form. The input form should be embedded inside a bootsrap card\n",
    "        dbc.Col([\n",
    "            dbc.Card(\n",
    "            dbc.CardBody([\n",
    "                dcc.Markdown('''\n",
    "                #### Input form\n",
    "                '''),\n",
    "            ]))], width = 3),\n",
    "        \n",
    "        dbc.Col([\n",
    "            dbc.Card(\n",
    "            dbc.CardBody([\n",
    "                dcc.Markdown('''\n",
    "                #### ROI Outputs\n",
    "                '''),\n",
    "            ]))], width = 3),\n",
    "        \n",
    "        dbc.Col([\n",
    "            dbc.Card(\n",
    "            dbc.CardBody([\n",
    "                dcc.Markdown('''\n",
    "                #### Incooom forcast outputs\n",
    "                '''),\n",
    "            ]))], width = 6),\n",
    "        \n",
    "    ], align = 'center')\n",
    "#====================================================================    \n",
    "  \n",
    "], fluid = True)"
   ]
  },
  {
   "cell_type": "code",
   "execution_count": 437,
   "id": "6dd0e11a",
   "metadata": {},
   "outputs": [],
   "source": [
    "# Pull most recent ohm price from coingecko\n",
    "from pycoingecko import CoinGeckoAPI # Pulls live data from coingecko\n",
    "cg = CoinGeckoAPI() # Pulls live price feed from coingecko\n",
    "ohmPrice = cg.get_price(ids='olympus',vs_currencies='usd') # Get most recent price from coingecko via api\n",
    "ohmPrice = ohmPrice['olympus']['usd']"
   ]
  },
  {
   "cell_type": "code",
   "execution_count": 438,
   "id": "1afcc387",
   "metadata": {},
   "outputs": [],
   "source": [
    "# Data frame to hold all required data point. Data required would be Epochs since rebase are distributed every Epoch\n",
    "ohmGrowth_df = pd.DataFrame(np.arange(3001), columns = ['Epochs']) # In this case let's consider 3000 Epochs which is 1000 days\n",
    "ohmGrowth_df['Days'] = ohmGrowth_df.Epochs/3 # There are 3 Epochs per day so divide by 3 to get Days\n",
    "#================================================================================\n",
    "roiTablulated_df = []\n",
    "#================================================================================"
   ]
  },
  {
   "cell_type": "code",
   "execution_count": 439,
   "id": "ae10230e",
   "metadata": {},
   "outputs": [],
   "source": [
    "# Ohm growth section: This section calculates and plots the projected ohm growth over time (1000 days)"
   ]
  },
  {
   "cell_type": "code",
   "execution_count": 440,
   "id": "b1a42385",
   "metadata": {},
   "outputs": [],
   "source": [
    "# Define callback to update the ohmGrowthChart. As user changes the initial staked ohm, the chart updates dynamically \n",
    "@app.callback(\n",
    "    Output('ohmGrowthChart', 'figure'),\n",
    "    Input(\"initialOhms\", \"value\"),\n",
    "    Input('rewardYield','value')\n",
    ")\n",
    "#================================================================================\n",
    "\n",
    "# This function calculates and generates the ohm growth over time using the initial staked ohm as a starting point\n",
    "def update_figure(initialOhms,rewardYield):\n",
    "    \n",
    "# To Calculate the ohm growth over 3000 Epochs or 1000 days, we loop through the exponential ohm growth equation every epoch\n",
    "\n",
    "    totalOhms = [] # create an empty array that will hold the componded rewards\n",
    "    rewardYield = round(rewardYield/100,5)\n",
    "    \n",
    "    ohmStakedGrowth = initialOhms # Initial staked ohms used to project growth over time\n",
    "    for elements in ohmGrowth_df.Epochs: # Initialize the for loop to have loops equal to number of rows or number of epochs\n",
    "        totalOhms.append(ohmStakedGrowth) # populate the empty array with calclated values each iteration\n",
    "        ohmStakedGrowth = ohmStakedGrowth*(1+rewardYield) # compound the total amount of ohms \n",
    "    ohmGrowth_df['Total_Ohms'] = totalOhms # Clean up and add the new array to the main data frame\n",
    "    ohmGrowth_df.Days = np.around(ohmGrowth_df.Days,decimals=1) # Python is funny so let's round up our numbers . 1 decimal place for days\",\n",
    "    ohmGrowth_df.Total_Ohms = np.around(ohmGrowth_df.Total_Ohms,decimals=3)  # Python is funny so let's round up our numbers . 3 decimal place for ohms\"\n",
    "\n",
    "#================================================================================  \n",
    "    \n",
    "    return px.line(\n",
    "        ohmGrowth_df, x=\"Days\", y=\"Total_Ohms\",\n",
    "        render_mode=\"webgl\", title=\"Accumulated Ohms\"\n",
    "    )"
   ]
  },
  {
   "cell_type": "code",
   "execution_count": 441,
   "id": "d1d676fc",
   "metadata": {},
   "outputs": [],
   "source": [
    "# ROI Section: This section "
   ]
  },
  {
   "cell_type": "code",
   "execution_count": 442,
   "id": "47780c20",
   "metadata": {},
   "outputs": [],
   "source": [
    "# Define callback to update the ohmGrowthChart. As user changes the initial staked ohm, the chart updates dynamically \n",
    "@app.callback(\n",
    "    Output('dailyROI_P', 'children'),\n",
    "    Output('fivedayROI_P', 'children'),\n",
    "    Output('sevendayROI_P', 'children'),\n",
    "    Output('monthlyROI_P', 'children'),\n",
    "    Output('annualROI_P', 'children'),\n",
    "    Output('forcastUSDTarget', 'children'),\n",
    "    Output('forcastOHMTarget', 'children'),\n",
    "    Output('forcastDailyIncooom', 'children'),\n",
    "    Output('requiredOHMDailyIncooom', 'children'),\n",
    "    Output('forcastWeeklyIncooom', 'children'),\n",
    "    Output('requiredOHMWeeklyIncooom', 'children'),\n",
    "    Input(\"rewardYield\", \"value\"),\n",
    "    Input(\"initialOhms\", \"value\"),\n",
    "    Input(\"desiredUSDTarget\", \"value\"),\n",
    "    Input(\"desiredOHMTarget\", \"value\"),\n",
    "    Input(\"desiredDailyIncooom\", \"value\"),\n",
    "    Input(\"desiredWeeklyIncooom\", \"value\")\n",
    ")\n",
    "#================================================================================\n",
    "def update_Incooom(rewardYield,initialOhms,desiredUSDTarget,desiredOHMTarget,desiredDailyIncooom,desiredWeeklyIncooom):\n",
    "    ohmStakedInit = initialOhms\n",
    "    rewardYield = round(rewardYield/100,5)\n",
    "    rebaseConst = 1 + rewardYield\n",
    "    currentAPY = 17407/100 # current staking %APY. Need to make this read from a source or user entry\n",
    "    ohmPrice = 300\n",
    "    \n",
    "    # Let's get some ROI Outputs starting with the daily\n",
    "    dailyROI = (1+rewardYield)**3-1 # Equation to calculate your daily ROI based on reward Yield\n",
    "    dailyROI_P = round(dailyROI*100,2) # daily ROI in Percentage\n",
    "    #================================================================================\n",
    "\n",
    "    # 5 day ROI\n",
    "    fivedayROI = (1+rewardYield)**(5*3)-1 # Equation to calculate your 5 day ROI based on reward Yield\n",
    "    fivedayROI_P = round(fivedayROI*100,2) # 5 day ROI in Percentage\n",
    "    #================================================================================\n",
    "\n",
    "    # 7 day ROI\n",
    "    sevendayROI = (1+rewardYield)**(7*3)-1 # Equation to calculate your 7 day ROI based on reward Yield\n",
    "    sevendayROI_P = round(sevendayROI*100,2) # 7 day ROI in Percentage\n",
    "    #================================================================================\n",
    "\n",
    "    # 30 day ROI\n",
    "    monthlyROI = (1+rewardYield)**(30*3)-1 # Equation to calculate your 30 day ROI based on reward Yield\n",
    "    monthlyROI_P = round(monthlyROI*100,2) # 30 day ROI in Percentage\n",
    "    #================================================================================\n",
    "\n",
    "    # Annual ROI\n",
    "    annualROI = (1+rewardYield)**(365*3)-1 # Equation to calculate your annual ROI based on reward Yield\n",
    "    annualROI_P = round(annualROI*100,2) # Equation to calculate your annual ROI based on reward Yield\n",
    "    #================================================================================\n",
    "\n",
    "    # Let's create a nice looking table to view the results of our calculations. The table will contain the ROIs and the percentages\n",
    "    roiData = [['Daily',dailyROI_P],['5 Day',fivedayROI_P],['7 Day',sevendayROI_P],['1 Month',monthlyROI_P],['1 Year',annualROI_P]]\n",
    "    roiTablulated_df = pd. DataFrame(roiData,columns = ['Cadence','Percentage'])\n",
    "    #================================================================================\n",
    "    \n",
    "    # Days until you reach target USD by staking only\n",
    "    forcastUSDTarget = round((math.log(desiredUSDTarget/(ohmStakedInit*ohmPrice),rebaseConst)/3))\n",
    "    #================================================================================\n",
    "\n",
    "    # Days until you reach target OHM by staking only\n",
    "    forcastOHMTarget = round(math.log(desiredOHMTarget/(ohmStakedInit),rebaseConst)/3) \n",
    "    #================================================================================\n",
    "\n",
    "    # Daily Incooom calculations\n",
    "    # Required OHMs until you are earning your desired daily incooom\n",
    "    requiredOHMDailyIncooom = round((desiredDailyIncooom/dailyROI)/ohmPrice)\n",
    "    # Days until you are earning your desired daily incooom from your current initial staked OHM amount\n",
    "    forcastDailyIncooom = round(math.log((requiredOHMDailyIncooom/ohmStakedInit),rebaseConst)/3)\n",
    "    requiredUSDForDailyIncooom = requiredOHMDailyIncooom*ohmPrice\n",
    "    #================================================================================\n",
    "\n",
    "    # Weekly Incooom calculations\n",
    "    # Required OHMs until you are earning your desired weekly incooom\n",
    "    requiredOHMWeeklyIncooom = round((desiredWeeklyIncooom/sevendayROI)/ohmPrice)\n",
    "    # Days until you are earning your desired weekly incooom from your current initial staked OHM amount\n",
    "    forcastWeeklyIncooom = round(math.log((requiredOHMWeeklyIncooom/ohmStakedInit),rebaseConst)/3)\n",
    "    requiredUSDForWeeklyIncooom = requiredOHMWeeklyIncooom*ohmPrice\n",
    "    #================================================================================\n",
    "    \n",
    "    return dailyROI_P,fivedayROI_P,sevendayROI_P,monthlyROI_P,annualROI_P,forcastUSDTarget,forcastOHMTarget,forcastDailyIncooom,requiredOHMDailyIncooom,forcastWeeklyIncooom,requiredOHMWeeklyIncooom  \n",
    "  "
   ]
  },
  {
   "cell_type": "code",
   "execution_count": 443,
   "id": "92825a69",
   "metadata": {},
   "outputs": [
    {
     "name": "stdout",
     "output_type": "stream",
     "text": [
      "Dash app running on http://127.0.0.1:8050/\n"
     ]
    }
   ],
   "source": [
    "# Run app and display result inline in the notebook\n",
    "app.run_server()"
   ]
  },
  {
   "cell_type": "code",
   "execution_count": 1,
   "id": "842182e4-4196-45e9-adcd-a8a7e6fe63b9",
   "metadata": {},
   "outputs": [
    {
     "name": "stderr",
     "output_type": "stream",
     "text": [
      "UsageError: Line magic function `%watermarks` not found.\n"
     ]
    }
   ],
   "source": [
    "%watermarks iversions"
   ]
  },
  {
   "cell_type": "code",
   "execution_count": 8,
   "id": "4d7029f6",
   "metadata": {},
   "outputs": [
    {
     "name": "stdout",
     "output_type": "stream",
     "text": [
      "The watermark extension is already loaded. To reload it, use:\n",
      "  %reload_ext watermark\n"
     ]
    }
   ],
   "source": [
    "%load_ext watermark"
   ]
  },
  {
   "cell_type": "code",
   "execution_count": 9,
   "id": "cda2f862",
   "metadata": {},
   "outputs": [
    {
     "name": "stdout",
     "output_type": "stream",
     "text": [
      "\n"
     ]
    }
   ],
   "source": [
    "%watermark --iversions"
   ]
  },
  {
   "cell_type": "code",
   "execution_count": null,
   "id": "fe004a61",
   "metadata": {},
   "outputs": [],
   "source": []
  }
 ],
 "metadata": {
  "kernelspec": {
   "display_name": "Python 3",
   "language": "python",
   "name": "python3"
  },
  "language_info": {
   "codemirror_mode": {
    "name": "ipython",
    "version": 3
   },
   "file_extension": ".py",
   "mimetype": "text/x-python",
   "name": "python",
   "nbconvert_exporter": "python",
   "pygments_lexer": "ipython3",
   "version": "3.8.10"
  }
 },
 "nbformat": 4,
 "nbformat_minor": 5
}
