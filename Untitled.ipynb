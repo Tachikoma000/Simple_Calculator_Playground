{
 "cells": [
  {
   "cell_type": "code",
   "execution_count": 31,
   "id": "9c6bde60",
   "metadata": {},
   "outputs": [
    {
     "name": "stdout",
     "output_type": "stream",
     "text": [
      "Dash app running on http://127.0.0.1:8051/\n"
     ]
    }
   ],
   "source": [
    "## Imports\n",
    "import dash\n",
    "import dash_core_components as dcc\n",
    "import dash_html_components as html\n",
    "import dash_table\n",
    "\n",
    "from dash.dependencies import Input, Output, State\n",
    "\n",
    "import datetime as dt\n",
    "import pandas as pd\n",
    "import numpy as np\n",
    "\n",
    "from jupyter_dash import JupyterDash  # server packages\n",
    "\n",
    "bondingTable_Data = {'Scenarios': ['Base Case',\n",
    "                                   'Staking before each Epoch',\n",
    "                                   'Staking once a day',\n",
    "                                   'Staking halfway through vesting (day 2.5)'],}\n",
    "\n",
    "\n",
    "df = pd.DataFrame(bondingTable_Data)\n",
    "\n",
    "app = JupyterDash(__name__)\n",
    "server = app.server\n",
    "app.scripts.config.serve_locally = True\n",
    "app.config['suppress_callback_exceptions'] = True\n",
    "\n",
    "\n",
    "app.layout = dash_table.DataTable(\n",
    "    id='table',\n",
    "    columns=[\n",
    "        {'name': 'Scenarios', 'id':'Scenarios'},\n",
    "        {'name': 'Hello', 'id':'Hello'}],\n",
    "    data=df.to_dict('records'),\n",
    ")\n",
    "\n",
    "\n",
    "if __name__ == '__main__':\n",
    "    app.run_server(debug=True, port=8051)"
   ]
  },
  {
   "cell_type": "code",
   "execution_count": 15,
   "id": "48216091",
   "metadata": {},
   "outputs": [],
   "source": [
    "bondingTable_Columns = ['Staking % rate',\n",
    "                       'OHMS Gained from Staking',\n",
    "                       'Vest Bonus',\n",
    "                       'Bonding % rate',\n",
    "                       'OHMS Gained from bonding',\n",
    "                       'ETH fees',\n",
    "                        '% Rate difference',\n",
    "                        'Minimum bond discount',\n",
    "                        'Current rebase rate',\n",
    "                        'Current APY',\n",
    "                        'Bonding APY',\n",
    "                        'APY multiplier'\n",
    "                       ]\n",
    "\n",
    "bondingTable_Rows = ['Base Case',\n",
    "                       'Staking before each Epoch',\n",
    "                       'Staking once a day',\n",
    "                       'Staking halfway through vesting (day 2.5)',\n",
    "                       ]"
   ]
  },
  {
   "cell_type": "code",
   "execution_count": 16,
   "id": "84cec51b",
   "metadata": {},
   "outputs": [],
   "source": [
    "df = pd.DataFrame(columns = bondingTable_Columns, index = bondingTable_Rows)"
   ]
  },
  {
   "cell_type": "code",
   "execution_count": 37,
   "id": "7f366372",
   "metadata": {},
   "outputs": [
    {
     "data": {
      "text/plain": [
       "pandas.core.frame.DataFrame"
      ]
     },
     "execution_count": 37,
     "metadata": {},
     "output_type": "execute_result"
    }
   ],
   "source": [
    "type(df)"
   ]
  },
  {
   "cell_type": "code",
   "execution_count": 36,
   "id": "c81f9e2f",
   "metadata": {},
   "outputs": [
    {
     "data": {
      "text/html": [
       "<div>\n",
       "<style scoped>\n",
       "    .dataframe tbody tr th:only-of-type {\n",
       "        vertical-align: middle;\n",
       "    }\n",
       "\n",
       "    .dataframe tbody tr th {\n",
       "        vertical-align: top;\n",
       "    }\n",
       "\n",
       "    .dataframe thead th {\n",
       "        text-align: right;\n",
       "    }\n",
       "</style>\n",
       "<table border=\"1\" class=\"dataframe\">\n",
       "  <thead>\n",
       "    <tr style=\"text-align: right;\">\n",
       "      <th></th>\n",
       "      <th>0</th>\n",
       "    </tr>\n",
       "  </thead>\n",
       "  <tbody>\n",
       "    <tr>\n",
       "      <th>0</th>\n",
       "      <td>1</td>\n",
       "    </tr>\n",
       "    <tr>\n",
       "      <th>1</th>\n",
       "      <td>2</td>\n",
       "    </tr>\n",
       "    <tr>\n",
       "      <th>2</th>\n",
       "      <td>3</td>\n",
       "    </tr>\n",
       "    <tr>\n",
       "      <th>3</th>\n",
       "      <td>4</td>\n",
       "    </tr>\n",
       "  </tbody>\n",
       "</table>\n",
       "</div>"
      ],
      "text/plain": [
       "   0\n",
       "0  1\n",
       "1  2\n",
       "2  3\n",
       "3  4"
      ]
     },
     "execution_count": 36,
     "metadata": {},
     "output_type": "execute_result"
    }
   ],
   "source": [
    "data = pd.DataFrame([1,2,3,4,])\n",
    "data"
   ]
  },
  {
   "cell_type": "code",
   "execution_count": null,
   "id": "f77b9456",
   "metadata": {},
   "outputs": [],
   "source": [
    "                            dbc.Col(\n",
    "                                dt.DataTable(id='bondingSimulationTable',\n",
    "                                            columns=[{\"name\": 'Scenarios', \"id\": 'scenarios'},\n",
    "                                                     {\"name\": 'Staking % rate', \"id\": 'stakingRate'},\n",
    "                                                     {\"name\": 'OHMS Gained from Staking', \"id\": 'ohmsGained_Staking'},\n",
    "                                                     {\"name\": 'Bonding % rate', \"id\": 'bondingRate'},\n",
    "                                                     {\"name\": 'OHMS Gained from bonding', \"id\": 'ohmsGained_Bonding'},\n",
    "                                                     {\"name\": 'ETH fees', \"id\": 'ethFees'},\n",
    "                                                     {\"name\": '% Rate difference', \"id\": 'rateDiff'},\n",
    "                                                     {\"name\": 'Minimum bond discount', \"id\": 'minBondDiscount'},\n",
    "                                                     {\"name\": 'Current rebase rate', \"id\": 'currentRebaseRate'},\n",
    "                                                     {\"name\": 'Current APY', \"id\": 'currentAPY'},\n",
    "                                                     {\"name\": 'Bonding APY', \"id\": 'bondingAPY'},\n",
    "                                                     {\"name\": 'APY multiplier', \"id\": 'apyMultiplier'}, \n",
    "                                                    ],\n",
    "                                    data = []), width = 5)"
   ]
  }
 ],
 "metadata": {
  "kernelspec": {
   "display_name": "Python 3",
   "language": "python",
   "name": "python3"
  },
  "language_info": {
   "codemirror_mode": {
    "name": "ipython",
    "version": 3
   },
   "file_extension": ".py",
   "mimetype": "text/x-python",
   "name": "python",
   "nbconvert_exporter": "python",
   "pygments_lexer": "ipython3",
   "version": "3.8.10"
  },
  "toc": {
   "base_numbering": 1,
   "nav_menu": {},
   "number_sections": true,
   "sideBar": true,
   "skip_h1_title": false,
   "title_cell": "Table of Contents",
   "title_sidebar": "Contents",
   "toc_cell": false,
   "toc_position": {},
   "toc_section_display": true,
   "toc_window_display": false
  },
  "varInspector": {
   "cols": {
    "lenName": 16,
    "lenType": 16,
    "lenVar": 40
   },
   "kernels_config": {
    "python": {
     "delete_cmd_postfix": "",
     "delete_cmd_prefix": "del ",
     "library": "var_list.py",
     "varRefreshCmd": "print(var_dic_list())"
    },
    "r": {
     "delete_cmd_postfix": ") ",
     "delete_cmd_prefix": "rm(",
     "library": "var_list.r",
     "varRefreshCmd": "cat(var_dic_list()) "
    }
   },
   "types_to_exclude": [
    "module",
    "function",
    "builtin_function_or_method",
    "instance",
    "_Feature"
   ],
   "window_display": false
  }
 },
 "nbformat": 4,
 "nbformat_minor": 5
}
