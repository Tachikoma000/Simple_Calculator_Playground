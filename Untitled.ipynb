{
 "cells": [
  {
   "cell_type": "code",
   "execution_count": 8,
   "id": "75d40d32",
   "metadata": {},
   "outputs": [
    {
     "name": "stdout",
     "output_type": "stream",
     "text": [
      "Method Not Allowed\n",
      "{'errors': [{'extensions': {'path': '$', 'code': 'invalid-jwt'}, 'message': 'Could not verify JWT: JWSError (CompactDecodeError Invalid number of parts: Expected 3 parts; got 1)'}]}\n",
      "{'errors': [{'extensions': {'path': '$', 'code': 'invalid-jwt'}, 'message': 'Could not verify JWT: JWSError (CompactDecodeError Invalid number of parts: Expected 3 parts; got 1)'}]}\n"
     ]
    }
   ],
   "source": [
    "from duneanalytics import DuneAnalytics\n",
    "\n",
    "# initialize client\n",
    "dune = DuneAnalytics('username', 'password')\n",
    "\n",
    "# try to login\n",
    "dune.login()\n",
    "\n",
    "# fetch token\n",
    "dune.fetch_auth_token()\n",
    "\n",
    "# fetch query result id using query id\n",
    "# query id for any query can be found from the url of the query:\n",
    "# for example: \n",
    "# https://duneanalytics.com/queries/4494/8769 => 4494\n",
    "# https://duneanalytics.com/queries/3705/7192 => 3705\n",
    "# https://duneanalytics.com/queries/3751/7276 => 3751\n",
    "\n",
    "result_id = dune.query_result_id(query_id=5508)\n",
    "\n",
    "# fetch query result\n",
    "data = dune.query_result(result_id)"
   ]
  },
  {
   "cell_type": "code",
   "execution_count": null,
   "id": "d542c788",
   "metadata": {},
   "outputs": [],
   "source": []
  }
 ],
 "metadata": {
  "kernelspec": {
   "display_name": "Python 3",
   "language": "python",
   "name": "python3"
  },
  "language_info": {
   "codemirror_mode": {
    "name": "ipython",
    "version": 3
   },
   "file_extension": ".py",
   "mimetype": "text/x-python",
   "name": "python",
   "nbconvert_exporter": "python",
   "pygments_lexer": "ipython3",
   "version": "3.8.10"
  }
 },
 "nbformat": 4,
 "nbformat_minor": 5
}
