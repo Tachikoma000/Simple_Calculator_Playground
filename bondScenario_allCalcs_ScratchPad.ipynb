{
 "cells": [
  {
   "cell_type": "code",
   "execution_count": 101,
   "id": "605272b0",
   "metadata": {},
   "outputs": [],
   "source": [
    "import math\n",
    "import pandas as pd\n",
    "import numpy"
   ]
  },
  {
   "cell_type": "code",
   "execution_count": 102,
   "id": "4e819e24",
   "metadata": {},
   "outputs": [],
   "source": [
    "# There are three scenarios for (4,4) currently.\n",
    "# 1. Stake every Epoch: User claims vested ohm tokens from bond and stakes before following epoch\n",
    "# 2. Stake daily: User claims vested ohm tokens and stakes once a day\n",
    "# 3. Stake halfway: User claims vest ohm tokens and stakes half way through the vesting period of 5 days\n",
    "# In all calculations, gas fees for claim and autostake will be considered\n",
    "# The simulator function will take a selected scenario as argument\n",
    "\n",
    "#scenarios = ['stakeEveryEpoch','stakeDaily','stakeHalfway'] # list of scenarios\n",
    "#selectedScenario = scenarios[0] # Selected scenario\n",
    "\n",
    "\n",
    "# Variable declarations: Eth and Ohm prices\n",
    "priceofETH = 3200\n",
    "initOhmValue = initialOhms * ohmPrice\n",
    "\n",
    "# Variable declarations: Fees\n",
    "# miscFee = 823373 * ((gwei*priceofETH)/(10**9))\n",
    "gwei = 30\n",
    "stakingGasFee = 179123*((gwei*priceofETH)/(10**9)) \n",
    "unstakingGasFee = 89654*((gwei*priceofETH)/(10**9))\n",
    "swappingGasFee = 225748*((gwei*priceofETH)/(10**9))+((0.3/100)*initOhmValue)\n",
    "claimGasFee = 80209*((gwei*priceofETH)/(10**9))\n",
    "bondingGasFee = 258057*((gwei*priceofETH)/(10**9))\n",
    "\n",
    "#\n",
    "\n",
    "\n",
    "bondingSimulationResults = [] # Instantiate an array to hold the results from the simulation\n",
    "\n",
    "# Data frame to hold all required data point. Data required would be Epochs since rebase are distributed every Epoch\n",
    "bondingSimulationResult_ohmGrowth_df = pd.DataFrame(np.arange(1096), columns=['Epochs'])  # In this case let's consider 1096 Epochs which is 365 days\n",
    "bondingSimulationResult_ohmGrowth_df['Days'] = bondingSimulationResult_ohmGrowth_df.Epochs / 3  # There are 3 Epochs per day so divide by 3 to get Days\n",
    "\n",
    "def bondingSimulation(discountedOHMPrice, amountUSDBonded, priceofETH, gasPrice, bondROI, nextEpochRebase,selectedScenario):\n",
    "    \n",
    "# Since there will be multiple scenarios (Possibly growing over time, we need to utilize if statements for scenarios\n",
    "\n",
    "# First Scenario is staking before every epoch\n",
    "\n",
    "#========================================================================================\n",
    "# Calculate the rebase rate and Current APY (next epoch rebase pulled from hippo data source)\n",
    "\n",
    "    rewardRate = round(nextEpochRebase/100, 4)\n",
    "    rebaseConst = 1 + rewardRate  # calculate a constant for use in APY calculation\n",
    "    currentAPY = (rebaseConst)**(1095)-1  # current APY equation\n",
    "    currentAPY_P = (currentAPY)*100  # convert to %\n",
    "    \n",
    "#=========================================================================================    \n",
    "# Case selection\n",
    "#=========================================================================================\n",
    "\n",
    "# STAKING BEFORE EVERY EPOCH\n",
    "# ========================================================================================\n",
    "    if selectedScenario =='stakeEveryEpoch':\n",
    "\n",
    "# (3,3)\n",
    "        stakingRate = (rebaseConst)**15 - 1  # staking reward rate\n",
    "        stakingRate_P = round(stakingRate * 100, 4) # staking reward rate in percentage\n",
    "        stakingOhmsGained = round(amountUSDBonded*stakingRate/discountedOHMPrice, 4) # Ohms gained from staking scenario\n",
    "        vestedBonus = ((rebaseConst)*(1-(rebaseConst)**15) /(1-(rebaseConst))/15)-1  # ohms gained as a percentage\n",
    "        vestedBonus_P = round(vestedBonus * 100, 2) # extra ohms gained in percentage\n",
    "# ================================================================================\n",
    "\n",
    "# (4,4)\n",
    "        bondingRate = (round(bondROI/100, 4))+vestedBonus  # bonding reward rate\n",
    "        bondingRate_P = round(bondingRate * 100, 4) # bonding reward rate in percentage\n",
    "        bondingOhmsGained = (amountUSDBonded*bondingRate / discountedOHMPrice)  # ohms gained from bonding\n",
    "# ================================================================================\n",
    "\n",
    "# Rates comparison\n",
    "        rateDiff = bondingRate - stakingRate\n",
    "        rateDiff_P = rateDiff * 100\n",
    "        minBondDiscount = stakingRate_P - vestedBonus_P\n",
    "# ================================================================================\n",
    "\n",
    "#ROI and APY\n",
    "        effectiveRebaseRate = 10**(math.log10(1+bondingRate)/15)-1\n",
    "        bondingAPY = (1+bondingRate)**(365/5)-1\n",
    "        bondingAPY_P = bondingAPY * 100\n",
    "        apyMultiplier = bondingAPY/currentAPY\n",
    "\n",
    "        return rewardRate, rebaseConst, currentAPY, currentAPY_P, stakingRate, stakingRate_P, \\\n",
    "        stakingOhmsGained, vestedBonus, vestedBonus_P, bondingRate, bondingRate_P,\\\n",
    "        bondingOhmsGained, rateDiff, rateDiff_P, minBondDiscount, effectiveRebaseRate, bondingAPY, bondingAPY_P, apyMultiplier\n",
    "    \n",
    "    else:\n",
    "        return ('Consider using gas consideration')"
   ]
  },
  {
   "cell_type": "code",
   "execution_count": 103,
   "id": "e587bee8",
   "metadata": {},
   "outputs": [
    {
     "data": {
      "text/plain": [
       "(0.004,\n",
       " 1.004,\n",
       " 78.14354983991076,\n",
       " 7814.354983991077,\n",
       " 0.06170947253567838,\n",
       " 6.1709,\n",
       " 1.1432,\n",
       " 0.03260517376368388,\n",
       " 3.26,\n",
       " 0.08840517376368388,\n",
       " 8.8405,\n",
       " 1.6377014938276508,\n",
       " 0.026695701228005506,\n",
       " 2.6695701228005504,\n",
       " 2.9109,\n",
       " 0.005663542992631498,\n",
       " 483.96860019893376,\n",
       " 48396.86001989338,\n",
       " 6.193327551543523)"
      ]
     },
     "execution_count": 103,
     "metadata": {},
     "output_type": "execute_result"
    }
   ],
   "source": [
    "update_Incooom(431.85, 8000, 2400, 40, 5.58, 0.40,selectedScenario)"
   ]
  },
  {
   "cell_type": "code",
   "execution_count": null,
   "id": "b0d5940e",
   "metadata": {},
   "outputs": [],
   "source": []
  },
  {
   "cell_type": "code",
   "execution_count": null,
   "id": "1f092b51",
   "metadata": {},
   "outputs": [],
   "source": []
  }
 ],
 "metadata": {
  "kernelspec": {
   "display_name": "Python 3",
   "language": "python",
   "name": "python3"
  },
  "language_info": {
   "codemirror_mode": {
    "name": "ipython",
    "version": 3
   },
   "file_extension": ".py",
   "mimetype": "text/x-python",
   "name": "python",
   "nbconvert_exporter": "python",
   "pygments_lexer": "ipython3",
   "version": "3.8.10"
  },
  "toc": {
   "base_numbering": 1,
   "nav_menu": {},
   "number_sections": true,
   "sideBar": true,
   "skip_h1_title": false,
   "title_cell": "Table of Contents",
   "title_sidebar": "Contents",
   "toc_cell": false,
   "toc_position": {},
   "toc_section_display": true,
   "toc_window_display": false
  },
  "varInspector": {
   "cols": {
    "lenName": 16,
    "lenType": 16,
    "lenVar": 40
   },
   "kernels_config": {
    "python": {
     "delete_cmd_postfix": "",
     "delete_cmd_prefix": "del ",
     "library": "var_list.py",
     "varRefreshCmd": "print(var_dic_list())"
    },
    "r": {
     "delete_cmd_postfix": ") ",
     "delete_cmd_prefix": "rm(",
     "library": "var_list.r",
     "varRefreshCmd": "cat(var_dic_list()) "
    }
   },
   "types_to_exclude": [
    "module",
    "function",
    "builtin_function_or_method",
    "instance",
    "_Feature"
   ],
   "window_display": false
  }
 },
 "nbformat": 4,
 "nbformat_minor": 5
}
